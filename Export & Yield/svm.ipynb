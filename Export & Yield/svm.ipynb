{
 "cells": [
  {
   "cell_type": "code",
   "execution_count": 1,
   "metadata": {},
   "outputs": [],
   "source": [
    "import pandas as pd\n",
    "from sklearn.svm import SVC\n",
    "from sklearn.model_selection import GridSearchCV"
   ]
  },
  {
   "cell_type": "code",
   "execution_count": 21,
   "metadata": {},
   "outputs": [],
   "source": [
    "data = pd.read_csv('corn_cleaned.csv')\n",
    "price = data['Prices received by farmers (Dollars per bushel)']\n",
    "price_change = (price - price.shift(1)).apply(lambda x: 1 if x > 0 else 0)\n",
    "price_change = price_change.reset_index().drop(['index'], axis=1).rename(columns={'Prices received by farmers (Dollars per bushel)':'Price Change'})"
   ]
  },
  {
   "cell_type": "code",
   "execution_count": 22,
   "metadata": {},
   "outputs": [],
   "source": [
    "exports = data['Exports, market year (Million bushels)'].reset_index().drop(['index'], axis=1).rename(columns={'Exports, market year (Million bushels)':'Exports'})"
   ]
  },
  {
   "cell_type": "code",
   "execution_count": 23,
   "metadata": {},
   "outputs": [
    {
     "name": "stderr",
     "output_type": "stream",
     "text": [
      "C:\\Users\\ruiya\\AppData\\Local\\Temp\\ipykernel_2068\\3031381510.py:1: DtypeWarning: Columns (13) have mixed types. Specify dtype option on import or set low_memory=False.\n",
      "  corn_yield = pd.read_csv('corn_yield.csv')\n"
     ]
    }
   ],
   "source": [
    "corn_yield = pd.read_csv('corn_yield.csv')\n",
    "\n",
    "corn_grain_all = corn_yield[(corn_yield['YIELD in BU / ACRE'] != ' ') & \\\n",
    "                        (corn_yield['COMMODITY'] == 'CORN, GRAIN')][['YEAR', 'YIELD in BU / ACRE', 'AREA HARVESTED in ACRES']] \\\n",
    "             .rename(columns={'YIELD in BU / ACRE':'YIELD', 'AREA HARVESTED in ACRES':'AREA'})\n",
    "\n",
    "corn_grain_all = corn_grain_all[corn_grain_all['AREA'] != ' '].reset_index().drop(['index'], axis=1)\n",
    "corn_grain_all['AREA'] = corn_grain_all['AREA'].apply(lambda a: int(a.replace(',', '')))\n",
    "corn_grain_all['YIELD'] = corn_grain_all['YIELD'].map(float)\n",
    "corn_grain_all['TOTAL_YIELD'] = corn_grain_all.apply(lambda row: (row['AREA']*row['YIELD']), axis=1)\n",
    "\n",
    "yields = corn_grain_all.groupby('YEAR').sum()['YIELD'].reset_index()\n",
    "yields_shift = yields.shift(-1)"
   ]
  },
  {
   "cell_type": "code",
   "execution_count": 27,
   "metadata": {},
   "outputs": [
    {
     "name": "stdout",
     "output_type": "stream",
     "text": [
      "Index(['YEAR', 'YIELD', 'Exports', 'Price Change'], dtype='object')\n"
     ]
    }
   ],
   "source": [
    "df = pd.concat([yields_shift, exports, price_change], axis=1).dropna()\n",
    "print(df.columns)"
   ]
  },
  {
   "cell_type": "code",
   "execution_count": 29,
   "metadata": {},
   "outputs": [
    {
     "name": "stdout",
     "output_type": "stream",
     "text": [
      "Fitting 2 folds for each of 6 candidates, totalling 12 fits\n",
      "Best parameter set found on development set:\n",
      "{'C': 1, 'gamma': 0.01, 'kernel': 'rbf'} \n",
      "\n"
     ]
    },
    {
     "name": "stderr",
     "output_type": "stream",
     "text": [
      "d:\\Miniconda\\envs\\sds\\Lib\\site-packages\\sklearn\\model_selection\\_search.py:1051: UserWarning: One or more of the test scores are non-finite: [nan nan nan nan nan nan]\n",
      "  warnings.warn(\n"
     ]
    }
   ],
   "source": [
    "# svm with grid search\n",
    "tuned_parameters = [{'kernel': ['rbf'],\n",
    "                     'gamma': [1e-2, 1e-3],\n",
    "                     'C': [1, 10, 100]}]\n",
    "\n",
    "clf = GridSearchCV(SVC(), tuned_parameters, cv=2,\n",
    "                   scoring='roc_auc_ovr', verbose=1, n_jobs=4)\n",
    "clf.fit(df[['Exports', 'YIELD']][:-5], df['Price Change'][:-5])\n",
    "\n",
    "print(\"Best parameter set found on development set:\")\n",
    "print(clf.best_params_, '\\n')"
   ]
  },
  {
   "cell_type": "code",
   "execution_count": 30,
   "metadata": {},
   "outputs": [
    {
     "name": "stdout",
     "output_type": "stream",
     "text": [
      "train set score: 1.0\n",
      "test set score: 0.6\n"
     ]
    }
   ],
   "source": [
    "svm = SVC(C=1, gamma=0.01, kernel='rbf')\n",
    "svm.fit(df[['Exports', 'YIELD']][:-5], df['Price Change'][:-5])\n",
    "print('train set score:', svm.score(df[['Exports', 'YIELD']][:-5], df['Price Change'][:-5]))\n",
    "print('test set score:', svm.score(df[['Exports', 'YIELD']][-5:], df['Price Change'][-5:]))"
   ]
  }
 ],
 "metadata": {
  "kernelspec": {
   "display_name": "sds",
   "language": "python",
   "name": "python3"
  },
  "language_info": {
   "codemirror_mode": {
    "name": "ipython",
    "version": 3
   },
   "file_extension": ".py",
   "mimetype": "text/x-python",
   "name": "python",
   "nbconvert_exporter": "python",
   "pygments_lexer": "ipython3",
   "version": "3.11.5"
  }
 },
 "nbformat": 4,
 "nbformat_minor": 2
}
