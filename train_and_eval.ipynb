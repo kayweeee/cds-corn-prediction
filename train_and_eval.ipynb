{
 "cells": [
  {
   "cell_type": "code",
   "execution_count": 1,
   "metadata": {},
   "outputs": [],
   "source": [
    "import numpy as np\n",
    "import matplotlib.pyplot as plt\n",
    "import pandas as pd\n",
    "import os\n",
    "import random\n",
    "import glob\n",
    "import pickle\n",
    "import tqdm\n",
    "import torch\n",
    "import torch.nn as nn\n",
    "from torch.utils.data import DataLoader\n",
    "from models import CNN_LSTM, SepCNN_LSTM, ConvGRU_LSTM, RandomForestBaseline, LassoModel\n",
    "import joblib"
   ]
  },
  {
   "cell_type": "code",
   "execution_count": 2,
   "metadata": {},
   "outputs": [
    {
     "data": {
      "text/plain": [
       "<torch._C.Generator at 0x2360b14c3f0>"
      ]
     },
     "execution_count": 2,
     "metadata": {},
     "output_type": "execute_result"
    }
   ],
   "source": [
    "seed = 42\n",
    "\n",
    "# Set seed for NumPy\n",
    "np.random.seed(seed)\n",
    "\n",
    "# Set seed for Python's built-in random module\n",
    "random.seed(seed)\n",
    "\n",
    "# Set seed for PyTorch\n",
    "torch.manual_seed(seed)\n",
    "\n",
    "# Set seed for Torch's CUDA operations if GPU is used\n",
    "# if torch.cuda.is_available():\n",
    "#     torch.backends.cudnn.deterministic = True\n",
    "#     torch.cuda.manual_seed(seed)"
   ]
  },
  {
   "cell_type": "code",
   "execution_count": 4,
   "metadata": {},
   "outputs": [
    {
     "name": "stdout",
     "output_type": "stream",
     "text": [
      "Shape of sample data: (38, 1, 128, 9)\n"
     ]
    }
   ],
   "source": [
    "# # Load a sample of the data\n",
    "sample_data = np.load('./data/PROCESSED_III/2018_13_155.npy')  \n",
    "\n",
    "# # Check the shape of the sample data\n",
    "print(\"Shape of sample data:\", sample_data.shape)"
   ]
  },
  {
   "cell_type": "code",
   "execution_count": 3,
   "metadata": {},
   "outputs": [],
   "source": [
    "# Define generator function\n",
    "def generator(IDs, yields, batch_size, cutoff=None):\n",
    "    def load_data(ID):\n",
    "        try:\n",
    "            data = np.load('./data/PROCESSED_III/' + ID + '.npy')\n",
    "            return data, True\n",
    "        except Exception as e:\n",
    "            return None, False\n",
    "\n",
    "    batches = 0\n",
    "\n",
    "    while True:\n",
    "        batch_features = np.zeros((batch_size, 38, 1, 128, 9)) if cutoff is None else np.zeros((batch_size, cutoff, 1, 128, 9))\n",
    "        batch_yields = np.zeros(batch_size)\n",
    "\n",
    "        if batches == len(IDs) // batch_size:\n",
    "            batches = 0\n",
    "            yield None, None\n",
    "\n",
    "        for i in range(batch_size):\n",
    "            while True:\n",
    "                index = random.choice(range(len(IDs)))\n",
    "                ID = IDs[index]\n",
    "                data, success = load_data(ID)\n",
    "                if success:\n",
    "                    break\n",
    "\n",
    "            if data is not None:\n",
    "                if cutoff is not None:\n",
    "                    if not np.isnan(data).any():\n",
    "                        batch_features[i, :, :, :, :] = data[:cutoff, :, :, :]\n",
    "                        batch_yields[i] = yields[ID]\n",
    "                else:\n",
    "                    batch_features[i, :, :, :, :] = data\n",
    "                    batch_yields[i] = yields[ID]\n",
    "                \n",
    "\n",
    "        batches += 1\n",
    "\n",
    "        yield torch.tensor(batch_features, dtype=torch.float32, device='cuda'), torch.tensor(batch_yields, dtype=torch.float32, device='cuda')\n"
   ]
  },
  {
   "cell_type": "code",
   "execution_count": 25,
   "metadata": {},
   "outputs": [],
   "source": [
    "# Datasets\n",
    "yields = pickle.load(open('data/yields.p', 'rb'))\n",
    "\n",
    "# Generators\n",
    "training_generator = generator(list(yields['train'].keys()), yields['train'], 16)\n",
    "validation_generator = generator(list(yields['validation'].keys()), yields['validation'], 16)\n",
    "\n",
    "# validation_generator = generator(list(yields['train'].keys()), yields['train'], 16)\n"
   ]
  },
  {
   "cell_type": "code",
   "execution_count": 14,
   "metadata": {},
   "outputs": [
    {
     "name": "stdout",
     "output_type": "stream",
     "text": [
      "Parameters: n_estimators=50, max_depth=None MSE: 663.8719968404296\n",
      "save best model\n",
      "Parameters: n_estimators=50, max_depth=10 MSE: 1870.8201142284768\n",
      "Parameters: n_estimators=50, max_depth=20 MSE: 2161.919268979579\n",
      "Parameters: n_estimators=100, max_depth=None MSE: 1222.9131032222751\n",
      "Parameters: n_estimators=100, max_depth=10 MSE: 1715.5148969166114\n",
      "Parameters: n_estimators=100, max_depth=20 MSE: 1348.1380253248612\n",
      "Parameters: n_estimators=150, max_depth=None MSE: 1065.5021248333226\n",
      "Parameters: n_estimators=150, max_depth=10 MSE: 961.7749221209135\n",
      "Parameters: n_estimators=150, max_depth=20 MSE: 542.6614050149682\n",
      "save best model\n",
      "\n",
      "Best Parameters:\n",
      "{'n_estimators': 150, 'max_depth': 20}\n",
      "Best Mean Squared Error: 542.6614050149682\n"
     ]
    }
   ],
   "source": [
    "n_estimators_values = [50, 100, 150]  \n",
    "max_depth_values = [None, 10, 20]\n",
    "\n",
    "# Initialize variables to store best parameters and corresponding MSE\n",
    "best_params = None\n",
    "best_mse = float('inf')  \n",
    "\n",
    "for n_estimators in n_estimators_values:\n",
    "    for max_depth in max_depth_values:\n",
    "        random_forest_model = RandomForestBaseline(n_estimators=n_estimators, max_depth=max_depth, random_state=42)\n",
    "\n",
    "        # Fit the model to training data\n",
    "        X_train, y_train = next(training_generator)\n",
    "        random_forest_model.fit(X_train.cpu().reshape(X_train.shape[0], -1), y_train.cpu())\n",
    "\n",
    "        # Make predictions on test data\n",
    "        X_test, y_test = next(validation_generator)\n",
    "        predictions = random_forest_model.predict(X_test.cpu().reshape(X_test.shape[0], -1))\n",
    "\n",
    "        # Evaluate the model\n",
    "        mse = random_forest_model.evaluate(X_test.cpu().reshape(X_test.cpu().shape[0], -1), y_test.cpu())\n",
    "\n",
    "        # Print MSE for current parameter combination\n",
    "        print(f\"Parameters: n_estimators={n_estimators}, max_depth={max_depth} MSE: {mse}\")\n",
    "\n",
    "        # Check if current combination improves performance\n",
    "        if mse < best_mse:\n",
    "            print('save best model')\n",
    "            joblib.dump(random_forest_model, 'random_forest_best_model.pkl')            \n",
    "            best_mse = mse\n",
    "            best_params = {'n_estimators': n_estimators, 'max_depth': max_depth}\n",
    "\n",
    "# Print best parameters and corresponding MSE\n",
    "print(\"\\nBest Parameters:\")\n",
    "print(best_params)\n",
    "print(\"Best Mean Squared Error:\", best_mse)"
   ]
  },
  {
   "cell_type": "code",
   "execution_count": 15,
   "metadata": {},
   "outputs": [
    {
     "name": "stdout",
     "output_type": "stream",
     "text": [
      "Alpha: 0.3, MSE: 1232.5351081241095\n",
      "save best model\n",
      "Alpha: 0.4, MSE: 956.7630826949603\n",
      "save best model\n",
      "Alpha: 0.5, MSE: 1127.524033871964\n",
      "\n",
      "Best Alpha: 0.4\n",
      "Best Mean Squared Error: 956.7630826949603\n"
     ]
    }
   ],
   "source": [
    "alpha_values = [0.3, 0.4, 0.5]\n",
    "\n",
    "best_alpha = None\n",
    "best_mse = float('inf') \n",
    "\n",
    "# Iterate over alpha values\n",
    "for alpha in alpha_values:\n",
    "    # Initialize Lasso model with current alpha value\n",
    "    lasso_model = LassoModel(alpha=alpha, random_state=42)\n",
    "\n",
    "    # Fit the model to training data\n",
    "    X_train, y_train = next(training_generator)\n",
    "    lasso_model.fit(X_train.cpu().reshape(X_train.shape[0], -1), y_train.cpu())\n",
    "\n",
    "    # Make predictions on test data\n",
    "    X_test, y_test = next(validation_generator)\n",
    "    predictions = lasso_model.predict(X_test.cpu().reshape(X_test.shape[0], -1))\n",
    "\n",
    "    # Evaluate the model\n",
    "    mse = lasso_model.evaluate(X_test.cpu().reshape(X_test.cpu().shape[0], -1), y_test.cpu())\n",
    "\n",
    "    print(f\"Alpha: {alpha}, MSE: {mse}\")\n",
    "\n",
    "    # Check if current alpha improves performance\n",
    "    if mse < best_mse:\n",
    "        print('save best model')\n",
    "        joblib.dump(lasso_model, 'lasso_best_model.pkl')   \n",
    "        best_mse = mse\n",
    "        best_alpha = alpha\n",
    "\n",
    "# Print best alpha and corresponding MSE\n",
    "print(\"\\nBest Alpha:\", best_alpha)\n",
    "print(\"Best Mean Squared Error:\", best_mse)"
   ]
  },
  {
   "cell_type": "code",
   "execution_count": 6,
   "metadata": {},
   "outputs": [
    {
     "name": "stderr",
     "output_type": "stream",
     "text": [
      "Epoch 1/100: 0it [00:00, ?it/s]d:\\Miniconda\\envs\\sds\\Lib\\site-packages\\torch\\nn\\modules\\conv.py:459: UserWarning: Using padding='same' with even kernel lengths and odd dilation may require a zero-padded copy of the input be created (Triggered internally at ..\\aten\\src\\ATen\\native\\Convolution.cpp:1004.)\n",
      "  return F.conv2d(input, weight, bias, self.stride,\n",
      "Epoch 1/100: 389it [00:27, 13.99it/s]\n"
     ]
    },
    {
     "name": "stdout",
     "output_type": "stream",
     "text": [
      "Epoch 1/100, Train Loss: 22225.5468, Val Loss: 20560.4383\n"
     ]
    },
    {
     "name": "stderr",
     "output_type": "stream",
     "text": [
      "Epoch 2/100: 389it [00:26, 14.88it/s]\n"
     ]
    },
    {
     "name": "stdout",
     "output_type": "stream",
     "text": [
      "Epoch 2/100, Train Loss: 12500.0966, Val Loss: 10456.9597\n"
     ]
    },
    {
     "name": "stderr",
     "output_type": "stream",
     "text": [
      "Epoch 3/100: 389it [00:26, 14.61it/s]\n"
     ]
    },
    {
     "name": "stdout",
     "output_type": "stream",
     "text": [
      "Epoch 3/100, Train Loss: 5517.7083, Val Loss: 5138.1607\n"
     ]
    },
    {
     "name": "stderr",
     "output_type": "stream",
     "text": [
      "Epoch 4/100: 389it [00:26, 14.65it/s]\n"
     ]
    },
    {
     "name": "stdout",
     "output_type": "stream",
     "text": [
      "Epoch 4/100, Train Loss: 3027.8418, Val Loss: 5343.1144\n"
     ]
    },
    {
     "name": "stderr",
     "output_type": "stream",
     "text": [
      "Epoch 5/100: 389it [00:26, 14.74it/s]\n"
     ]
    },
    {
     "name": "stdout",
     "output_type": "stream",
     "text": [
      "Epoch 5/100, Train Loss: 1639.3942, Val Loss: 2312.8053\n"
     ]
    },
    {
     "name": "stderr",
     "output_type": "stream",
     "text": [
      "Epoch 6/100: 389it [00:27, 14.40it/s]\n"
     ]
    },
    {
     "name": "stdout",
     "output_type": "stream",
     "text": [
      "Epoch 6/100, Train Loss: 1136.7613, Val Loss: 3508.0707\n"
     ]
    },
    {
     "name": "stderr",
     "output_type": "stream",
     "text": [
      "Epoch 7/100: 389it [00:27, 14.30it/s]\n"
     ]
    },
    {
     "name": "stdout",
     "output_type": "stream",
     "text": [
      "Epoch 7/100, Train Loss: 1029.0102, Val Loss: 2983.4327\n"
     ]
    },
    {
     "name": "stderr",
     "output_type": "stream",
     "text": [
      "Epoch 8/100: 389it [00:27, 14.30it/s]\n"
     ]
    },
    {
     "name": "stdout",
     "output_type": "stream",
     "text": [
      "Epoch 8/100, Train Loss: 978.1141, Val Loss: 4488.2710\n"
     ]
    },
    {
     "name": "stderr",
     "output_type": "stream",
     "text": [
      "Epoch 9/100: 389it [00:27, 14.38it/s]\n"
     ]
    },
    {
     "name": "stdout",
     "output_type": "stream",
     "text": [
      "Epoch 9/100, Train Loss: 954.1938, Val Loss: 2141.1601\n"
     ]
    },
    {
     "name": "stderr",
     "output_type": "stream",
     "text": [
      "Epoch 10/100: 389it [00:26, 14.61it/s]\n"
     ]
    },
    {
     "name": "stdout",
     "output_type": "stream",
     "text": [
      "Epoch 10/100, Train Loss: 900.1827, Val Loss: 2842.2853\n"
     ]
    },
    {
     "name": "stderr",
     "output_type": "stream",
     "text": [
      "Epoch 11/100: 389it [00:26, 14.59it/s]\n"
     ]
    },
    {
     "name": "stdout",
     "output_type": "stream",
     "text": [
      "Epoch 11/100, Train Loss: 877.3522, Val Loss: 3039.4682\n"
     ]
    },
    {
     "name": "stderr",
     "output_type": "stream",
     "text": [
      "Epoch 12/100: 389it [00:26, 14.55it/s]\n"
     ]
    },
    {
     "name": "stdout",
     "output_type": "stream",
     "text": [
      "Epoch 12/100, Train Loss: 809.2621, Val Loss: 4346.4946\n"
     ]
    },
    {
     "name": "stderr",
     "output_type": "stream",
     "text": [
      "Epoch 13/100: 389it [00:26, 14.49it/s]\n"
     ]
    },
    {
     "name": "stdout",
     "output_type": "stream",
     "text": [
      "Epoch 13/100, Train Loss: 791.0919, Val Loss: 3874.4511\n"
     ]
    },
    {
     "name": "stderr",
     "output_type": "stream",
     "text": [
      "Epoch 14/100: 389it [00:26, 14.54it/s]\n"
     ]
    },
    {
     "name": "stdout",
     "output_type": "stream",
     "text": [
      "Epoch 14/100, Train Loss: 794.2349, Val Loss: 4870.6922\n"
     ]
    },
    {
     "name": "stderr",
     "output_type": "stream",
     "text": [
      "Epoch 15/100: 389it [00:27, 14.27it/s]\n"
     ]
    },
    {
     "name": "stdout",
     "output_type": "stream",
     "text": [
      "Epoch 15/100, Train Loss: 755.9405, Val Loss: 3970.6995\n"
     ]
    },
    {
     "name": "stderr",
     "output_type": "stream",
     "text": [
      "Epoch 16/100: 389it [00:26, 14.52it/s]\n"
     ]
    },
    {
     "name": "stdout",
     "output_type": "stream",
     "text": [
      "Epoch 16/100, Train Loss: 693.7396, Val Loss: 1478.6347\n"
     ]
    },
    {
     "name": "stderr",
     "output_type": "stream",
     "text": [
      "Epoch 17/100: 389it [00:26, 14.53it/s]\n"
     ]
    },
    {
     "name": "stdout",
     "output_type": "stream",
     "text": [
      "Epoch 17/100, Train Loss: 687.2075, Val Loss: 2940.2179\n"
     ]
    },
    {
     "name": "stderr",
     "output_type": "stream",
     "text": [
      "Epoch 18/100: 389it [00:26, 14.52it/s]\n"
     ]
    },
    {
     "name": "stdout",
     "output_type": "stream",
     "text": [
      "Epoch 18/100, Train Loss: 680.3952, Val Loss: 2645.4345\n"
     ]
    },
    {
     "name": "stderr",
     "output_type": "stream",
     "text": [
      "Epoch 19/100: 389it [00:26, 14.49it/s]\n"
     ]
    },
    {
     "name": "stdout",
     "output_type": "stream",
     "text": [
      "Epoch 19/100, Train Loss: 678.0415, Val Loss: 2849.4052\n"
     ]
    },
    {
     "name": "stderr",
     "output_type": "stream",
     "text": [
      "Epoch 20/100: 389it [00:26, 14.46it/s]\n"
     ]
    },
    {
     "name": "stdout",
     "output_type": "stream",
     "text": [
      "Epoch 20/100, Train Loss: 661.7623, Val Loss: 3466.7622\n"
     ]
    },
    {
     "name": "stderr",
     "output_type": "stream",
     "text": [
      "Epoch 21/100: 389it [00:27, 14.31it/s]\n"
     ]
    },
    {
     "name": "stdout",
     "output_type": "stream",
     "text": [
      "Epoch 21/100, Train Loss: 681.5184, Val Loss: 3142.4172\n"
     ]
    },
    {
     "name": "stderr",
     "output_type": "stream",
     "text": [
      "Epoch 22/100: 389it [00:27, 14.31it/s]\n"
     ]
    },
    {
     "name": "stdout",
     "output_type": "stream",
     "text": [
      "Epoch 22/100, Train Loss: 656.7110, Val Loss: 3355.2934\n"
     ]
    },
    {
     "name": "stderr",
     "output_type": "stream",
     "text": [
      "Epoch 23/100: 389it [00:27, 14.33it/s]\n"
     ]
    },
    {
     "name": "stdout",
     "output_type": "stream",
     "text": [
      "Epoch 23/100, Train Loss: 666.8497, Val Loss: 3766.6565\n"
     ]
    },
    {
     "name": "stderr",
     "output_type": "stream",
     "text": [
      "Epoch 24/100: 389it [00:27, 14.37it/s]\n"
     ]
    },
    {
     "name": "stdout",
     "output_type": "stream",
     "text": [
      "Epoch 24/100, Train Loss: 650.8566, Val Loss: 2137.5411\n"
     ]
    },
    {
     "name": "stderr",
     "output_type": "stream",
     "text": [
      "Epoch 25/100: 389it [00:27, 14.38it/s]\n"
     ]
    },
    {
     "name": "stdout",
     "output_type": "stream",
     "text": [
      "Epoch 25/100, Train Loss: 660.6723, Val Loss: 2649.1621\n"
     ]
    },
    {
     "name": "stderr",
     "output_type": "stream",
     "text": [
      "Epoch 26/100: 389it [00:27, 14.36it/s]\n"
     ]
    },
    {
     "name": "stdout",
     "output_type": "stream",
     "text": [
      "Epoch 26/100, Train Loss: 648.5920, Val Loss: 1582.3899\n"
     ]
    },
    {
     "name": "stderr",
     "output_type": "stream",
     "text": [
      "Epoch 27/100: 389it [00:27, 14.30it/s]\n"
     ]
    },
    {
     "name": "stdout",
     "output_type": "stream",
     "text": [
      "Epoch 27/100, Train Loss: 633.9657, Val Loss: 1248.8244\n"
     ]
    },
    {
     "name": "stderr",
     "output_type": "stream",
     "text": [
      "Epoch 28/100: 389it [00:27, 14.35it/s]\n"
     ]
    },
    {
     "name": "stdout",
     "output_type": "stream",
     "text": [
      "Epoch 28/100, Train Loss: 610.0658, Val Loss: 1216.8524\n"
     ]
    },
    {
     "name": "stderr",
     "output_type": "stream",
     "text": [
      "Epoch 29/100: 389it [00:27, 14.11it/s]\n"
     ]
    },
    {
     "name": "stdout",
     "output_type": "stream",
     "text": [
      "Epoch 29/100, Train Loss: 629.0018, Val Loss: 1253.3367\n"
     ]
    },
    {
     "name": "stderr",
     "output_type": "stream",
     "text": [
      "Epoch 30/100: 389it [00:30, 12.70it/s]\n"
     ]
    },
    {
     "name": "stdout",
     "output_type": "stream",
     "text": [
      "Epoch 30/100, Train Loss: 606.8664, Val Loss: 4244.8942\n"
     ]
    },
    {
     "name": "stderr",
     "output_type": "stream",
     "text": [
      "Epoch 31/100: 389it [00:29, 13.39it/s]\n"
     ]
    },
    {
     "name": "stdout",
     "output_type": "stream",
     "text": [
      "Epoch 31/100, Train Loss: 613.1194, Val Loss: 86498.4103\n"
     ]
    },
    {
     "name": "stderr",
     "output_type": "stream",
     "text": [
      "Epoch 32/100: 389it [00:28, 13.82it/s]\n"
     ]
    },
    {
     "name": "stdout",
     "output_type": "stream",
     "text": [
      "Epoch 32/100, Train Loss: 622.8692, Val Loss: 34959.0724\n"
     ]
    },
    {
     "name": "stderr",
     "output_type": "stream",
     "text": [
      "Epoch 33/100: 389it [00:27, 14.31it/s]\n"
     ]
    },
    {
     "name": "stdout",
     "output_type": "stream",
     "text": [
      "Epoch 33/100, Train Loss: 618.0082, Val Loss: 1785.3786\n"
     ]
    },
    {
     "name": "stderr",
     "output_type": "stream",
     "text": [
      "Epoch 34/100: 389it [00:27, 14.37it/s]\n"
     ]
    },
    {
     "name": "stdout",
     "output_type": "stream",
     "text": [
      "Epoch 34/100, Train Loss: 633.9312, Val Loss: 3317.6462\n"
     ]
    },
    {
     "name": "stderr",
     "output_type": "stream",
     "text": [
      "Epoch 35/100: 389it [00:27, 14.36it/s]\n"
     ]
    },
    {
     "name": "stdout",
     "output_type": "stream",
     "text": [
      "Epoch 35/100, Train Loss: 657.4793, Val Loss: 3885.3874\n"
     ]
    },
    {
     "name": "stderr",
     "output_type": "stream",
     "text": [
      "Epoch 36/100: 389it [00:27, 14.06it/s]\n"
     ]
    },
    {
     "name": "stdout",
     "output_type": "stream",
     "text": [
      "Epoch 36/100, Train Loss: 627.0751, Val Loss: 1288.7617\n"
     ]
    },
    {
     "name": "stderr",
     "output_type": "stream",
     "text": [
      "Epoch 37/100: 389it [00:27, 14.04it/s]\n"
     ]
    },
    {
     "name": "stdout",
     "output_type": "stream",
     "text": [
      "Epoch 37/100, Train Loss: 618.3053, Val Loss: 1290.9045\n"
     ]
    },
    {
     "name": "stderr",
     "output_type": "stream",
     "text": [
      "Epoch 38/100: 389it [00:27, 14.14it/s]\n"
     ]
    },
    {
     "name": "stdout",
     "output_type": "stream",
     "text": [
      "Epoch 38/100, Train Loss: 606.8914, Val Loss: 2475.4406\n"
     ]
    },
    {
     "name": "stderr",
     "output_type": "stream",
     "text": [
      "Epoch 39/100: 389it [00:26, 14.43it/s]\n"
     ]
    },
    {
     "name": "stdout",
     "output_type": "stream",
     "text": [
      "Epoch 39/100, Train Loss: 591.4615, Val Loss: 1477.5438\n"
     ]
    },
    {
     "name": "stderr",
     "output_type": "stream",
     "text": [
      "Epoch 40/100: 389it [00:27, 14.17it/s]\n"
     ]
    },
    {
     "name": "stdout",
     "output_type": "stream",
     "text": [
      "Epoch 40/100, Train Loss: 595.9649, Val Loss: 1261.5203\n"
     ]
    },
    {
     "name": "stderr",
     "output_type": "stream",
     "text": [
      "Epoch 41/100: 389it [00:27, 14.36it/s]\n"
     ]
    },
    {
     "name": "stdout",
     "output_type": "stream",
     "text": [
      "Epoch 41/100, Train Loss: 604.1081, Val Loss: 2152.1472\n"
     ]
    },
    {
     "name": "stderr",
     "output_type": "stream",
     "text": [
      "Epoch 42/100: 389it [00:27, 14.05it/s]\n"
     ]
    },
    {
     "name": "stdout",
     "output_type": "stream",
     "text": [
      "Epoch 42/100, Train Loss: 605.1445, Val Loss: 1572.7913\n"
     ]
    },
    {
     "name": "stderr",
     "output_type": "stream",
     "text": [
      "Epoch 43/100: 389it [00:27, 14.40it/s]\n"
     ]
    },
    {
     "name": "stdout",
     "output_type": "stream",
     "text": [
      "Epoch 43/100, Train Loss: 601.9341, Val Loss: 2292.0155\n"
     ]
    },
    {
     "name": "stderr",
     "output_type": "stream",
     "text": [
      "Epoch 44/100: 389it [00:26, 14.47it/s]\n"
     ]
    },
    {
     "name": "stdout",
     "output_type": "stream",
     "text": [
      "Epoch 44/100, Train Loss: 615.8721, Val Loss: 5358.6032\n"
     ]
    },
    {
     "name": "stderr",
     "output_type": "stream",
     "text": [
      "Epoch 45/100: 389it [00:27, 14.36it/s]\n"
     ]
    },
    {
     "name": "stdout",
     "output_type": "stream",
     "text": [
      "Epoch 45/100, Train Loss: 589.8831, Val Loss: 1541.6962\n"
     ]
    },
    {
     "name": "stderr",
     "output_type": "stream",
     "text": [
      "Epoch 46/100: 389it [00:27, 14.37it/s]\n"
     ]
    },
    {
     "name": "stdout",
     "output_type": "stream",
     "text": [
      "Epoch 46/100, Train Loss: 600.2572, Val Loss: 1147.7255\n"
     ]
    },
    {
     "name": "stderr",
     "output_type": "stream",
     "text": [
      "Epoch 47/100: 389it [00:27, 14.33it/s]\n"
     ]
    },
    {
     "name": "stdout",
     "output_type": "stream",
     "text": [
      "Epoch 47/100, Train Loss: 588.6833, Val Loss: 1490.5684\n"
     ]
    },
    {
     "name": "stderr",
     "output_type": "stream",
     "text": [
      "Epoch 48/100: 389it [00:27, 14.34it/s]\n"
     ]
    },
    {
     "name": "stdout",
     "output_type": "stream",
     "text": [
      "Epoch 48/100, Train Loss: 575.7857, Val Loss: 1686.2801\n"
     ]
    },
    {
     "name": "stderr",
     "output_type": "stream",
     "text": [
      "Epoch 49/100: 389it [00:26, 14.44it/s]\n"
     ]
    },
    {
     "name": "stdout",
     "output_type": "stream",
     "text": [
      "Epoch 49/100, Train Loss: 597.1863, Val Loss: 1348.6681\n"
     ]
    },
    {
     "name": "stderr",
     "output_type": "stream",
     "text": [
      "Epoch 50/100: 389it [00:26, 14.50it/s]\n"
     ]
    },
    {
     "name": "stdout",
     "output_type": "stream",
     "text": [
      "Epoch 50/100, Train Loss: 605.1022, Val Loss: 1448.3142\n"
     ]
    },
    {
     "name": "stderr",
     "output_type": "stream",
     "text": [
      "Epoch 51/100: 389it [00:26, 14.50it/s]\n"
     ]
    },
    {
     "name": "stdout",
     "output_type": "stream",
     "text": [
      "Epoch 51/100, Train Loss: 585.9429, Val Loss: 2085.9542\n"
     ]
    },
    {
     "name": "stderr",
     "output_type": "stream",
     "text": [
      "Epoch 52/100: 389it [00:27, 14.34it/s]\n"
     ]
    },
    {
     "name": "stdout",
     "output_type": "stream",
     "text": [
      "Epoch 52/100, Train Loss: 604.7660, Val Loss: 1474.3298\n"
     ]
    },
    {
     "name": "stderr",
     "output_type": "stream",
     "text": [
      "Epoch 53/100: 389it [00:26, 14.56it/s]\n"
     ]
    },
    {
     "name": "stdout",
     "output_type": "stream",
     "text": [
      "Epoch 53/100, Train Loss: 586.4891, Val Loss: 1941.5677\n"
     ]
    },
    {
     "name": "stderr",
     "output_type": "stream",
     "text": [
      "Epoch 54/100: 389it [00:26, 14.55it/s]\n"
     ]
    },
    {
     "name": "stdout",
     "output_type": "stream",
     "text": [
      "Epoch 54/100, Train Loss: 579.8770, Val Loss: 2018.7620\n"
     ]
    },
    {
     "name": "stderr",
     "output_type": "stream",
     "text": [
      "Epoch 55/100: 389it [00:26, 14.56it/s]\n"
     ]
    },
    {
     "name": "stdout",
     "output_type": "stream",
     "text": [
      "Epoch 55/100, Train Loss: 557.7706, Val Loss: 1738.1370\n"
     ]
    },
    {
     "name": "stderr",
     "output_type": "stream",
     "text": [
      "Epoch 56/100: 389it [00:26, 14.42it/s]\n"
     ]
    },
    {
     "name": "stdout",
     "output_type": "stream",
     "text": [
      "Epoch 56/100, Train Loss: 577.1523, Val Loss: 1222.5580\n"
     ]
    },
    {
     "name": "stderr",
     "output_type": "stream",
     "text": [
      "Epoch 57/100: 389it [00:27, 14.36it/s]\n"
     ]
    },
    {
     "name": "stdout",
     "output_type": "stream",
     "text": [
      "Epoch 57/100, Train Loss: 574.9994, Val Loss: 1438.2894\n"
     ]
    },
    {
     "name": "stderr",
     "output_type": "stream",
     "text": [
      "Epoch 58/100: 389it [00:26, 14.41it/s]\n"
     ]
    },
    {
     "name": "stdout",
     "output_type": "stream",
     "text": [
      "Epoch 58/100, Train Loss: 575.7817, Val Loss: 1129.5837\n"
     ]
    },
    {
     "name": "stderr",
     "output_type": "stream",
     "text": [
      "Epoch 59/100: 389it [00:26, 14.52it/s]\n"
     ]
    },
    {
     "name": "stdout",
     "output_type": "stream",
     "text": [
      "Epoch 59/100, Train Loss: 585.7219, Val Loss: 1818.4430\n"
     ]
    },
    {
     "name": "stderr",
     "output_type": "stream",
     "text": [
      "Epoch 60/100: 389it [00:26, 14.53it/s]\n"
     ]
    },
    {
     "name": "stdout",
     "output_type": "stream",
     "text": [
      "Epoch 60/100, Train Loss: 593.9073, Val Loss: 1711.4903\n"
     ]
    },
    {
     "name": "stderr",
     "output_type": "stream",
     "text": [
      "Epoch 61/100: 389it [00:27, 14.33it/s]\n"
     ]
    },
    {
     "name": "stdout",
     "output_type": "stream",
     "text": [
      "Epoch 61/100, Train Loss: 577.3638, Val Loss: 1662.4783\n"
     ]
    },
    {
     "name": "stderr",
     "output_type": "stream",
     "text": [
      "Epoch 62/100: 389it [00:26, 14.54it/s]\n"
     ]
    },
    {
     "name": "stdout",
     "output_type": "stream",
     "text": [
      "Epoch 62/100, Train Loss: 571.9239, Val Loss: 1853.6292\n"
     ]
    },
    {
     "name": "stderr",
     "output_type": "stream",
     "text": [
      "Epoch 63/100: 389it [00:27, 14.32it/s]\n"
     ]
    },
    {
     "name": "stdout",
     "output_type": "stream",
     "text": [
      "Epoch 63/100, Train Loss: 578.6362, Val Loss: 1902.7388\n"
     ]
    },
    {
     "name": "stderr",
     "output_type": "stream",
     "text": [
      "Epoch 64/100: 389it [00:26, 14.44it/s]\n"
     ]
    },
    {
     "name": "stdout",
     "output_type": "stream",
     "text": [
      "Epoch 64/100, Train Loss: 560.7561, Val Loss: 1528.9698\n"
     ]
    },
    {
     "name": "stderr",
     "output_type": "stream",
     "text": [
      "Epoch 65/100: 389it [00:27, 14.40it/s]\n"
     ]
    },
    {
     "name": "stdout",
     "output_type": "stream",
     "text": [
      "Epoch 65/100, Train Loss: 586.5293, Val Loss: 1506.0918\n"
     ]
    },
    {
     "name": "stderr",
     "output_type": "stream",
     "text": [
      "Epoch 66/100: 389it [00:26, 14.49it/s]\n"
     ]
    },
    {
     "name": "stdout",
     "output_type": "stream",
     "text": [
      "Epoch 66/100, Train Loss: 563.8260, Val Loss: 1920.9778\n"
     ]
    },
    {
     "name": "stderr",
     "output_type": "stream",
     "text": [
      "Epoch 67/100: 389it [00:26, 14.51it/s]\n"
     ]
    },
    {
     "name": "stdout",
     "output_type": "stream",
     "text": [
      "Epoch 67/100, Train Loss: 574.8922, Val Loss: 1926.3301\n"
     ]
    },
    {
     "name": "stderr",
     "output_type": "stream",
     "text": [
      "Epoch 68/100: 389it [00:26, 14.55it/s]\n"
     ]
    },
    {
     "name": "stdout",
     "output_type": "stream",
     "text": [
      "Epoch 68/100, Train Loss: 571.0931, Val Loss: 1808.2005\n"
     ]
    },
    {
     "name": "stderr",
     "output_type": "stream",
     "text": [
      "Epoch 69/100: 389it [00:26, 14.53it/s]\n"
     ]
    },
    {
     "name": "stdout",
     "output_type": "stream",
     "text": [
      "Epoch 69/100, Train Loss: 579.1359, Val Loss: 1901.5874\n"
     ]
    },
    {
     "name": "stderr",
     "output_type": "stream",
     "text": [
      "Epoch 70/100: 389it [00:26, 14.49it/s]\n"
     ]
    },
    {
     "name": "stdout",
     "output_type": "stream",
     "text": [
      "Epoch 70/100, Train Loss: 549.5092, Val Loss: 1550.5828\n"
     ]
    },
    {
     "name": "stderr",
     "output_type": "stream",
     "text": [
      "Epoch 71/100: 389it [00:26, 14.52it/s]\n"
     ]
    },
    {
     "name": "stdout",
     "output_type": "stream",
     "text": [
      "Epoch 71/100, Train Loss: 544.0588, Val Loss: 1442.8448\n"
     ]
    },
    {
     "name": "stderr",
     "output_type": "stream",
     "text": [
      "Epoch 72/100: 389it [00:26, 14.54it/s]\n"
     ]
    },
    {
     "name": "stdout",
     "output_type": "stream",
     "text": [
      "Epoch 72/100, Train Loss: 561.8024, Val Loss: 1587.0143\n"
     ]
    },
    {
     "name": "stderr",
     "output_type": "stream",
     "text": [
      "Epoch 73/100: 389it [00:26, 14.53it/s]\n"
     ]
    },
    {
     "name": "stdout",
     "output_type": "stream",
     "text": [
      "Epoch 73/100, Train Loss: 566.5095, Val Loss: 2148.6393\n"
     ]
    },
    {
     "name": "stderr",
     "output_type": "stream",
     "text": [
      "Epoch 74/100: 389it [00:26, 14.55it/s]\n"
     ]
    },
    {
     "name": "stdout",
     "output_type": "stream",
     "text": [
      "Epoch 74/100, Train Loss: 544.5480, Val Loss: 1658.9050\n"
     ]
    },
    {
     "name": "stderr",
     "output_type": "stream",
     "text": [
      "Epoch 75/100: 389it [00:26, 14.58it/s]\n"
     ]
    },
    {
     "name": "stdout",
     "output_type": "stream",
     "text": [
      "Epoch 75/100, Train Loss: 524.5881, Val Loss: 1620.4348\n"
     ]
    },
    {
     "name": "stderr",
     "output_type": "stream",
     "text": [
      "Epoch 76/100: 389it [00:26, 14.55it/s]\n"
     ]
    },
    {
     "name": "stdout",
     "output_type": "stream",
     "text": [
      "Epoch 76/100, Train Loss: 567.0125, Val Loss: 1539.6374\n"
     ]
    },
    {
     "name": "stderr",
     "output_type": "stream",
     "text": [
      "Epoch 77/100: 389it [00:26, 14.48it/s]\n"
     ]
    },
    {
     "name": "stdout",
     "output_type": "stream",
     "text": [
      "Epoch 77/100, Train Loss: 563.1555, Val Loss: 1920.9307\n"
     ]
    },
    {
     "name": "stderr",
     "output_type": "stream",
     "text": [
      "Epoch 78/100: 389it [00:26, 14.56it/s]\n"
     ]
    },
    {
     "name": "stdout",
     "output_type": "stream",
     "text": [
      "Epoch 78/100, Train Loss: 581.4803, Val Loss: 2009.8213\n"
     ]
    },
    {
     "name": "stderr",
     "output_type": "stream",
     "text": [
      "Epoch 79/100: 389it [00:26, 14.51it/s]\n"
     ]
    },
    {
     "name": "stdout",
     "output_type": "stream",
     "text": [
      "Epoch 79/100, Train Loss: 570.4732, Val Loss: 1748.1295\n"
     ]
    },
    {
     "name": "stderr",
     "output_type": "stream",
     "text": [
      "Epoch 80/100: 389it [00:26, 14.42it/s]\n"
     ]
    },
    {
     "name": "stdout",
     "output_type": "stream",
     "text": [
      "Epoch 80/100, Train Loss: 558.7463, Val Loss: 1457.5356\n"
     ]
    },
    {
     "name": "stderr",
     "output_type": "stream",
     "text": [
      "Epoch 81/100: 389it [00:27, 14.40it/s]\n"
     ]
    },
    {
     "name": "stdout",
     "output_type": "stream",
     "text": [
      "Epoch 81/100, Train Loss: 582.6484, Val Loss: 1544.5340\n"
     ]
    },
    {
     "name": "stderr",
     "output_type": "stream",
     "text": [
      "Epoch 82/100: 389it [00:26, 14.56it/s]\n"
     ]
    },
    {
     "name": "stdout",
     "output_type": "stream",
     "text": [
      "Epoch 82/100, Train Loss: 571.2943, Val Loss: 1415.8226\n"
     ]
    },
    {
     "name": "stderr",
     "output_type": "stream",
     "text": [
      "Epoch 83/100: 389it [00:26, 14.57it/s]\n"
     ]
    },
    {
     "name": "stdout",
     "output_type": "stream",
     "text": [
      "Epoch 83/100, Train Loss: 550.6289, Val Loss: 1612.6089\n"
     ]
    },
    {
     "name": "stderr",
     "output_type": "stream",
     "text": [
      "Epoch 84/100: 389it [00:26, 14.57it/s]\n"
     ]
    },
    {
     "name": "stdout",
     "output_type": "stream",
     "text": [
      "Epoch 84/100, Train Loss: 566.0508, Val Loss: 1782.4913\n"
     ]
    },
    {
     "name": "stderr",
     "output_type": "stream",
     "text": [
      "Epoch 85/100: 389it [00:26, 14.52it/s]\n"
     ]
    },
    {
     "name": "stdout",
     "output_type": "stream",
     "text": [
      "Epoch 85/100, Train Loss: 547.2406, Val Loss: 1593.8333\n"
     ]
    },
    {
     "name": "stderr",
     "output_type": "stream",
     "text": [
      "Epoch 86/100: 389it [00:26, 14.53it/s]\n"
     ]
    },
    {
     "name": "stdout",
     "output_type": "stream",
     "text": [
      "Epoch 86/100, Train Loss: 543.2029, Val Loss: 1658.2790\n"
     ]
    },
    {
     "name": "stderr",
     "output_type": "stream",
     "text": [
      "Epoch 87/100: 389it [00:26, 14.54it/s]\n"
     ]
    },
    {
     "name": "stdout",
     "output_type": "stream",
     "text": [
      "Epoch 87/100, Train Loss: 533.4554, Val Loss: 7634.0481\n"
     ]
    },
    {
     "name": "stderr",
     "output_type": "stream",
     "text": [
      "Epoch 88/100: 389it [00:26, 14.55it/s]\n"
     ]
    },
    {
     "name": "stdout",
     "output_type": "stream",
     "text": [
      "Epoch 88/100, Train Loss: 540.3594, Val Loss: 1476.3161\n"
     ]
    },
    {
     "name": "stderr",
     "output_type": "stream",
     "text": [
      "Epoch 89/100: 389it [00:26, 14.58it/s]\n"
     ]
    },
    {
     "name": "stdout",
     "output_type": "stream",
     "text": [
      "Epoch 89/100, Train Loss: 528.1698, Val Loss: 1384.3335\n"
     ]
    },
    {
     "name": "stderr",
     "output_type": "stream",
     "text": [
      "Epoch 90/100: 389it [00:26, 14.56it/s]\n"
     ]
    },
    {
     "name": "stdout",
     "output_type": "stream",
     "text": [
      "Epoch 90/100, Train Loss: 548.5618, Val Loss: 1684.7858\n"
     ]
    },
    {
     "name": "stderr",
     "output_type": "stream",
     "text": [
      "Epoch 91/100: 389it [00:26, 14.56it/s]\n"
     ]
    },
    {
     "name": "stdout",
     "output_type": "stream",
     "text": [
      "Epoch 91/100, Train Loss: 530.2726, Val Loss: 1533.6253\n"
     ]
    },
    {
     "name": "stderr",
     "output_type": "stream",
     "text": [
      "Epoch 92/100: 389it [00:26, 14.58it/s]\n"
     ]
    },
    {
     "name": "stdout",
     "output_type": "stream",
     "text": [
      "Epoch 92/100, Train Loss: 534.8269, Val Loss: 1489.8889\n"
     ]
    },
    {
     "name": "stderr",
     "output_type": "stream",
     "text": [
      "Epoch 93/100: 389it [00:26, 14.56it/s]\n"
     ]
    },
    {
     "name": "stdout",
     "output_type": "stream",
     "text": [
      "Epoch 93/100, Train Loss: 526.8164, Val Loss: 1753.8163\n"
     ]
    },
    {
     "name": "stderr",
     "output_type": "stream",
     "text": [
      "Epoch 94/100: 389it [00:26, 14.60it/s]\n"
     ]
    },
    {
     "name": "stdout",
     "output_type": "stream",
     "text": [
      "Epoch 94/100, Train Loss: 544.8527, Val Loss: 1824.0242\n"
     ]
    },
    {
     "name": "stderr",
     "output_type": "stream",
     "text": [
      "Epoch 95/100: 389it [00:26, 14.57it/s]\n"
     ]
    },
    {
     "name": "stdout",
     "output_type": "stream",
     "text": [
      "Epoch 95/100, Train Loss: 548.3154, Val Loss: 1351.6792\n"
     ]
    },
    {
     "name": "stderr",
     "output_type": "stream",
     "text": [
      "Epoch 96/100: 389it [00:26, 14.57it/s]\n"
     ]
    },
    {
     "name": "stdout",
     "output_type": "stream",
     "text": [
      "Epoch 96/100, Train Loss: 543.2210, Val Loss: 1383.1312\n"
     ]
    },
    {
     "name": "stderr",
     "output_type": "stream",
     "text": [
      "Epoch 97/100: 389it [00:26, 14.62it/s]\n"
     ]
    },
    {
     "name": "stdout",
     "output_type": "stream",
     "text": [
      "Epoch 97/100, Train Loss: 526.7904, Val Loss: 1081.1803\n"
     ]
    },
    {
     "name": "stderr",
     "output_type": "stream",
     "text": [
      "Epoch 98/100: 389it [00:26, 14.63it/s]\n"
     ]
    },
    {
     "name": "stdout",
     "output_type": "stream",
     "text": [
      "Epoch 98/100, Train Loss: 533.0911, Val Loss: 1563.7162\n"
     ]
    },
    {
     "name": "stderr",
     "output_type": "stream",
     "text": [
      "Epoch 99/100: 389it [00:26, 14.60it/s]\n"
     ]
    },
    {
     "name": "stdout",
     "output_type": "stream",
     "text": [
      "Epoch 99/100, Train Loss: 530.5924, Val Loss: 1562.1012\n"
     ]
    },
    {
     "name": "stderr",
     "output_type": "stream",
     "text": [
      "Epoch 100/100: 389it [00:26, 14.58it/s]\n"
     ]
    },
    {
     "name": "stdout",
     "output_type": "stream",
     "text": [
      "Epoch 100/100, Train Loss: 536.9096, Val Loss: 1355.8591\n"
     ]
    },
    {
     "name": "stderr",
     "output_type": "stream",
     "text": [
      "Epoch 1/100: 389it [00:27, 13.94it/s]\n"
     ]
    },
    {
     "name": "stdout",
     "output_type": "stream",
     "text": [
      "Epoch 1/100, Train Loss: 22214.0497, Val Loss: 19170.4443\n"
     ]
    },
    {
     "name": "stderr",
     "output_type": "stream",
     "text": [
      "Epoch 2/100: 389it [00:27, 13.98it/s]\n"
     ]
    },
    {
     "name": "stdout",
     "output_type": "stream",
     "text": [
      "Epoch 2/100, Train Loss: 12595.6488, Val Loss: 11369.6488\n"
     ]
    },
    {
     "name": "stderr",
     "output_type": "stream",
     "text": [
      "Epoch 3/100: 389it [00:27, 13.95it/s]\n"
     ]
    },
    {
     "name": "stdout",
     "output_type": "stream",
     "text": [
      "Epoch 3/100, Train Loss: 6574.2207, Val Loss: 6057.8102\n"
     ]
    },
    {
     "name": "stderr",
     "output_type": "stream",
     "text": [
      "Epoch 4/100: 389it [00:27, 13.96it/s]\n"
     ]
    },
    {
     "name": "stdout",
     "output_type": "stream",
     "text": [
      "Epoch 4/100, Train Loss: 3545.0216, Val Loss: 2624.3091\n"
     ]
    },
    {
     "name": "stderr",
     "output_type": "stream",
     "text": [
      "Epoch 5/100: 389it [00:27, 13.95it/s]\n"
     ]
    },
    {
     "name": "stdout",
     "output_type": "stream",
     "text": [
      "Epoch 5/100, Train Loss: 1375.6017, Val Loss: 2052.4980\n"
     ]
    },
    {
     "name": "stderr",
     "output_type": "stream",
     "text": [
      "Epoch 6/100: 389it [00:27, 13.94it/s]\n"
     ]
    },
    {
     "name": "stdout",
     "output_type": "stream",
     "text": [
      "Epoch 6/100, Train Loss: 1131.4497, Val Loss: 2503.2546\n"
     ]
    },
    {
     "name": "stderr",
     "output_type": "stream",
     "text": [
      "Epoch 7/100: 389it [00:27, 13.95it/s]\n"
     ]
    },
    {
     "name": "stdout",
     "output_type": "stream",
     "text": [
      "Epoch 7/100, Train Loss: 1051.7371, Val Loss: 1724.4507\n"
     ]
    },
    {
     "name": "stderr",
     "output_type": "stream",
     "text": [
      "Epoch 8/100: 389it [00:27, 13.97it/s]\n"
     ]
    },
    {
     "name": "stdout",
     "output_type": "stream",
     "text": [
      "Epoch 8/100, Train Loss: 960.2707, Val Loss: 1700.4659\n"
     ]
    },
    {
     "name": "stderr",
     "output_type": "stream",
     "text": [
      "Epoch 9/100: 389it [00:27, 13.93it/s]\n"
     ]
    },
    {
     "name": "stdout",
     "output_type": "stream",
     "text": [
      "Epoch 9/100, Train Loss: 900.2959, Val Loss: 1608.4951\n"
     ]
    },
    {
     "name": "stderr",
     "output_type": "stream",
     "text": [
      "Epoch 10/100: 389it [00:27, 13.92it/s]\n"
     ]
    },
    {
     "name": "stdout",
     "output_type": "stream",
     "text": [
      "Epoch 10/100, Train Loss: 867.3553, Val Loss: 1639.4283\n"
     ]
    },
    {
     "name": "stderr",
     "output_type": "stream",
     "text": [
      "Epoch 11/100: 389it [00:27, 13.93it/s]\n"
     ]
    },
    {
     "name": "stdout",
     "output_type": "stream",
     "text": [
      "Epoch 11/100, Train Loss: 864.1911, Val Loss: 1871.1856\n"
     ]
    },
    {
     "name": "stderr",
     "output_type": "stream",
     "text": [
      "Epoch 12/100: 389it [00:28, 13.88it/s]\n"
     ]
    },
    {
     "name": "stdout",
     "output_type": "stream",
     "text": [
      "Epoch 12/100, Train Loss: 784.2373, Val Loss: 2127.0939\n"
     ]
    },
    {
     "name": "stderr",
     "output_type": "stream",
     "text": [
      "Epoch 13/100: 389it [00:27, 13.94it/s]\n"
     ]
    },
    {
     "name": "stdout",
     "output_type": "stream",
     "text": [
      "Epoch 13/100, Train Loss: 774.8922, Val Loss: 1340.2130\n"
     ]
    },
    {
     "name": "stderr",
     "output_type": "stream",
     "text": [
      "Epoch 14/100: 389it [00:27, 13.96it/s]\n"
     ]
    },
    {
     "name": "stdout",
     "output_type": "stream",
     "text": [
      "Epoch 14/100, Train Loss: 754.5343, Val Loss: 1268.8251\n"
     ]
    },
    {
     "name": "stderr",
     "output_type": "stream",
     "text": [
      "Epoch 15/100: 389it [00:27, 13.96it/s]\n"
     ]
    },
    {
     "name": "stdout",
     "output_type": "stream",
     "text": [
      "Epoch 15/100, Train Loss: 719.2764, Val Loss: 1792.8247\n"
     ]
    },
    {
     "name": "stderr",
     "output_type": "stream",
     "text": [
      "Epoch 16/100: 389it [00:27, 13.94it/s]\n"
     ]
    },
    {
     "name": "stdout",
     "output_type": "stream",
     "text": [
      "Epoch 16/100, Train Loss: 725.8767, Val Loss: 1987.7495\n"
     ]
    },
    {
     "name": "stderr",
     "output_type": "stream",
     "text": [
      "Epoch 17/100: 389it [00:27, 13.93it/s]\n"
     ]
    },
    {
     "name": "stdout",
     "output_type": "stream",
     "text": [
      "Epoch 17/100, Train Loss: 705.8440, Val Loss: 2168.1707\n"
     ]
    },
    {
     "name": "stderr",
     "output_type": "stream",
     "text": [
      "Epoch 18/100: 389it [00:27, 13.94it/s]\n"
     ]
    },
    {
     "name": "stdout",
     "output_type": "stream",
     "text": [
      "Epoch 18/100, Train Loss: 663.5421, Val Loss: 1804.4611\n"
     ]
    },
    {
     "name": "stderr",
     "output_type": "stream",
     "text": [
      "Epoch 19/100: 389it [00:27, 13.91it/s]\n"
     ]
    },
    {
     "name": "stdout",
     "output_type": "stream",
     "text": [
      "Epoch 19/100, Train Loss: 640.8710, Val Loss: 1970.8673\n"
     ]
    },
    {
     "name": "stderr",
     "output_type": "stream",
     "text": [
      "Epoch 20/100: 389it [00:27, 13.89it/s]\n"
     ]
    },
    {
     "name": "stdout",
     "output_type": "stream",
     "text": [
      "Epoch 20/100, Train Loss: 672.9450, Val Loss: 1810.0839\n"
     ]
    },
    {
     "name": "stderr",
     "output_type": "stream",
     "text": [
      "Epoch 21/100: 389it [00:27, 13.95it/s]\n"
     ]
    },
    {
     "name": "stdout",
     "output_type": "stream",
     "text": [
      "Epoch 21/100, Train Loss: 629.5055, Val Loss: 2144.8963\n"
     ]
    },
    {
     "name": "stderr",
     "output_type": "stream",
     "text": [
      "Epoch 22/100: 389it [00:27, 13.92it/s]\n"
     ]
    },
    {
     "name": "stdout",
     "output_type": "stream",
     "text": [
      "Epoch 22/100, Train Loss: 639.0085, Val Loss: 1561.5239\n"
     ]
    },
    {
     "name": "stderr",
     "output_type": "stream",
     "text": [
      "Epoch 23/100: 389it [00:27, 13.94it/s]\n"
     ]
    },
    {
     "name": "stdout",
     "output_type": "stream",
     "text": [
      "Epoch 23/100, Train Loss: 645.7930, Val Loss: 1683.1398\n"
     ]
    },
    {
     "name": "stderr",
     "output_type": "stream",
     "text": [
      "Epoch 24/100: 389it [00:28, 13.87it/s]\n"
     ]
    },
    {
     "name": "stdout",
     "output_type": "stream",
     "text": [
      "Epoch 24/100, Train Loss: 628.3503, Val Loss: 2108.0304\n"
     ]
    },
    {
     "name": "stderr",
     "output_type": "stream",
     "text": [
      "Epoch 25/100: 389it [00:27, 13.94it/s]\n"
     ]
    },
    {
     "name": "stdout",
     "output_type": "stream",
     "text": [
      "Epoch 25/100, Train Loss: 643.8085, Val Loss: 1463.7727\n"
     ]
    },
    {
     "name": "stderr",
     "output_type": "stream",
     "text": [
      "Epoch 26/100: 389it [00:27, 13.93it/s]\n"
     ]
    },
    {
     "name": "stdout",
     "output_type": "stream",
     "text": [
      "Epoch 26/100, Train Loss: 638.6863, Val Loss: 1663.6987\n"
     ]
    },
    {
     "name": "stderr",
     "output_type": "stream",
     "text": [
      "Epoch 27/100: 389it [00:27, 13.94it/s]\n"
     ]
    },
    {
     "name": "stdout",
     "output_type": "stream",
     "text": [
      "Epoch 27/100, Train Loss: 613.8342, Val Loss: 1747.1584\n"
     ]
    },
    {
     "name": "stderr",
     "output_type": "stream",
     "text": [
      "Epoch 28/100: 389it [00:27, 13.95it/s]\n"
     ]
    },
    {
     "name": "stdout",
     "output_type": "stream",
     "text": [
      "Epoch 28/100, Train Loss: 603.1616, Val Loss: 2186.1745\n"
     ]
    },
    {
     "name": "stderr",
     "output_type": "stream",
     "text": [
      "Epoch 29/100: 389it [00:27, 13.93it/s]\n"
     ]
    },
    {
     "name": "stdout",
     "output_type": "stream",
     "text": [
      "Epoch 29/100, Train Loss: 604.5143, Val Loss: 1577.4444\n"
     ]
    },
    {
     "name": "stderr",
     "output_type": "stream",
     "text": [
      "Epoch 30/100: 389it [00:27, 13.94it/s]\n"
     ]
    },
    {
     "name": "stdout",
     "output_type": "stream",
     "text": [
      "Epoch 30/100, Train Loss: 599.2079, Val Loss: 1670.8506\n"
     ]
    },
    {
     "name": "stderr",
     "output_type": "stream",
     "text": [
      "Epoch 31/100: 389it [00:28, 13.89it/s]\n"
     ]
    },
    {
     "name": "stdout",
     "output_type": "stream",
     "text": [
      "Epoch 31/100, Train Loss: 603.1022, Val Loss: 1851.0494\n"
     ]
    },
    {
     "name": "stderr",
     "output_type": "stream",
     "text": [
      "Epoch 32/100: 389it [00:27, 13.96it/s]\n"
     ]
    },
    {
     "name": "stdout",
     "output_type": "stream",
     "text": [
      "Epoch 32/100, Train Loss: 599.3508, Val Loss: 1897.5375\n"
     ]
    },
    {
     "name": "stderr",
     "output_type": "stream",
     "text": [
      "Epoch 33/100: 389it [00:27, 13.94it/s]\n"
     ]
    },
    {
     "name": "stdout",
     "output_type": "stream",
     "text": [
      "Epoch 33/100, Train Loss: 602.6750, Val Loss: 1358.6437\n"
     ]
    },
    {
     "name": "stderr",
     "output_type": "stream",
     "text": [
      "Epoch 34/100: 389it [00:27, 13.90it/s]\n"
     ]
    },
    {
     "name": "stdout",
     "output_type": "stream",
     "text": [
      "Epoch 34/100, Train Loss: 608.9040, Val Loss: 1375.5692\n"
     ]
    },
    {
     "name": "stderr",
     "output_type": "stream",
     "text": [
      "Epoch 35/100: 389it [00:27, 13.92it/s]\n"
     ]
    },
    {
     "name": "stdout",
     "output_type": "stream",
     "text": [
      "Epoch 35/100, Train Loss: 582.4771, Val Loss: 1916.7324\n"
     ]
    },
    {
     "name": "stderr",
     "output_type": "stream",
     "text": [
      "Epoch 36/100: 389it [00:27, 13.99it/s]\n"
     ]
    },
    {
     "name": "stdout",
     "output_type": "stream",
     "text": [
      "Epoch 36/100, Train Loss: 573.2647, Val Loss: 1639.6528\n"
     ]
    },
    {
     "name": "stderr",
     "output_type": "stream",
     "text": [
      "Epoch 37/100: 389it [00:27, 13.95it/s]\n"
     ]
    },
    {
     "name": "stdout",
     "output_type": "stream",
     "text": [
      "Epoch 37/100, Train Loss: 587.8350, Val Loss: 1685.7342\n"
     ]
    },
    {
     "name": "stderr",
     "output_type": "stream",
     "text": [
      "Epoch 38/100: 389it [00:27, 13.96it/s]\n"
     ]
    },
    {
     "name": "stdout",
     "output_type": "stream",
     "text": [
      "Epoch 38/100, Train Loss: 583.3537, Val Loss: 1589.8139\n"
     ]
    },
    {
     "name": "stderr",
     "output_type": "stream",
     "text": [
      "Epoch 39/100: 389it [00:27, 13.97it/s]\n"
     ]
    },
    {
     "name": "stdout",
     "output_type": "stream",
     "text": [
      "Epoch 39/100, Train Loss: 591.3018, Val Loss: 1657.1629\n"
     ]
    },
    {
     "name": "stderr",
     "output_type": "stream",
     "text": [
      "Epoch 40/100: 389it [00:27, 13.97it/s]\n"
     ]
    },
    {
     "name": "stdout",
     "output_type": "stream",
     "text": [
      "Epoch 40/100, Train Loss: 609.6783, Val Loss: 1793.2241\n"
     ]
    },
    {
     "name": "stderr",
     "output_type": "stream",
     "text": [
      "Epoch 41/100: 389it [00:27, 13.90it/s]\n"
     ]
    },
    {
     "name": "stdout",
     "output_type": "stream",
     "text": [
      "Epoch 41/100, Train Loss: 585.3062, Val Loss: 1933.6890\n"
     ]
    },
    {
     "name": "stderr",
     "output_type": "stream",
     "text": [
      "Epoch 42/100: 389it [00:27, 13.92it/s]\n"
     ]
    },
    {
     "name": "stdout",
     "output_type": "stream",
     "text": [
      "Epoch 42/100, Train Loss: 585.8045, Val Loss: 1733.2995\n"
     ]
    },
    {
     "name": "stderr",
     "output_type": "stream",
     "text": [
      "Epoch 43/100: 389it [00:27, 13.98it/s]\n"
     ]
    },
    {
     "name": "stdout",
     "output_type": "stream",
     "text": [
      "Epoch 43/100, Train Loss: 571.5180, Val Loss: 1638.1542\n"
     ]
    },
    {
     "name": "stderr",
     "output_type": "stream",
     "text": [
      "Epoch 44/100: 389it [00:27, 13.97it/s]\n"
     ]
    },
    {
     "name": "stdout",
     "output_type": "stream",
     "text": [
      "Epoch 44/100, Train Loss: 569.9690, Val Loss: 1795.2130\n"
     ]
    },
    {
     "name": "stderr",
     "output_type": "stream",
     "text": [
      "Epoch 45/100: 389it [00:27, 13.96it/s]\n"
     ]
    },
    {
     "name": "stdout",
     "output_type": "stream",
     "text": [
      "Epoch 45/100, Train Loss: 577.4781, Val Loss: 1616.6449\n"
     ]
    },
    {
     "name": "stderr",
     "output_type": "stream",
     "text": [
      "Epoch 46/100: 389it [00:27, 13.97it/s]\n"
     ]
    },
    {
     "name": "stdout",
     "output_type": "stream",
     "text": [
      "Epoch 46/100, Train Loss: 573.8686, Val Loss: 1428.8230\n"
     ]
    },
    {
     "name": "stderr",
     "output_type": "stream",
     "text": [
      "Epoch 47/100: 389it [00:27, 13.96it/s]\n"
     ]
    },
    {
     "name": "stdout",
     "output_type": "stream",
     "text": [
      "Epoch 47/100, Train Loss: 562.1129, Val Loss: 1594.4784\n"
     ]
    },
    {
     "name": "stderr",
     "output_type": "stream",
     "text": [
      "Epoch 48/100: 389it [00:27, 13.97it/s]\n"
     ]
    },
    {
     "name": "stdout",
     "output_type": "stream",
     "text": [
      "Epoch 48/100, Train Loss: 578.2182, Val Loss: 1740.8188\n"
     ]
    },
    {
     "name": "stderr",
     "output_type": "stream",
     "text": [
      "Epoch 49/100: 389it [00:27, 13.96it/s]\n"
     ]
    },
    {
     "name": "stdout",
     "output_type": "stream",
     "text": [
      "Epoch 49/100, Train Loss: 590.6144, Val Loss: 1415.9107\n"
     ]
    },
    {
     "name": "stderr",
     "output_type": "stream",
     "text": [
      "Epoch 50/100: 389it [00:27, 13.96it/s]\n"
     ]
    },
    {
     "name": "stdout",
     "output_type": "stream",
     "text": [
      "Epoch 50/100, Train Loss: 578.5525, Val Loss: 1950.4772\n"
     ]
    },
    {
     "name": "stderr",
     "output_type": "stream",
     "text": [
      "Epoch 51/100: 389it [00:27, 13.96it/s]\n"
     ]
    },
    {
     "name": "stdout",
     "output_type": "stream",
     "text": [
      "Epoch 51/100, Train Loss: 582.6192, Val Loss: 1548.8680\n"
     ]
    },
    {
     "name": "stderr",
     "output_type": "stream",
     "text": [
      "Epoch 52/100: 389it [00:27, 13.94it/s]\n"
     ]
    },
    {
     "name": "stdout",
     "output_type": "stream",
     "text": [
      "Epoch 52/100, Train Loss: 555.7143, Val Loss: 2412.0464\n"
     ]
    },
    {
     "name": "stderr",
     "output_type": "stream",
     "text": [
      "Epoch 53/100: 389it [00:27, 13.97it/s]\n"
     ]
    },
    {
     "name": "stdout",
     "output_type": "stream",
     "text": [
      "Epoch 53/100, Train Loss: 558.3905, Val Loss: 1561.8998\n"
     ]
    },
    {
     "name": "stderr",
     "output_type": "stream",
     "text": [
      "Epoch 54/100: 389it [00:29, 13.18it/s]\n"
     ]
    },
    {
     "name": "stdout",
     "output_type": "stream",
     "text": [
      "Epoch 54/100, Train Loss: 550.3657, Val Loss: 1791.7873\n"
     ]
    },
    {
     "name": "stderr",
     "output_type": "stream",
     "text": [
      "Epoch 55/100: 389it [00:28, 13.51it/s]\n"
     ]
    },
    {
     "name": "stdout",
     "output_type": "stream",
     "text": [
      "Epoch 55/100, Train Loss: 565.6361, Val Loss: 1471.0964\n"
     ]
    },
    {
     "name": "stderr",
     "output_type": "stream",
     "text": [
      "Epoch 56/100: 389it [00:28, 13.86it/s]\n"
     ]
    },
    {
     "name": "stdout",
     "output_type": "stream",
     "text": [
      "Epoch 56/100, Train Loss: 570.5646, Val Loss: 2019.2723\n"
     ]
    },
    {
     "name": "stderr",
     "output_type": "stream",
     "text": [
      "Epoch 57/100: 389it [00:28, 13.58it/s]\n"
     ]
    },
    {
     "name": "stdout",
     "output_type": "stream",
     "text": [
      "Epoch 57/100, Train Loss: 557.8283, Val Loss: 1634.0014\n"
     ]
    },
    {
     "name": "stderr",
     "output_type": "stream",
     "text": [
      "Epoch 58/100: 389it [00:28, 13.58it/s]\n"
     ]
    },
    {
     "name": "stdout",
     "output_type": "stream",
     "text": [
      "Epoch 58/100, Train Loss: 551.1637, Val Loss: 1685.8753\n"
     ]
    },
    {
     "name": "stderr",
     "output_type": "stream",
     "text": [
      "Epoch 59/100: 389it [00:28, 13.75it/s]\n"
     ]
    },
    {
     "name": "stdout",
     "output_type": "stream",
     "text": [
      "Epoch 59/100, Train Loss: 557.2277, Val Loss: 1534.4593\n"
     ]
    },
    {
     "name": "stderr",
     "output_type": "stream",
     "text": [
      "Epoch 60/100: 389it [00:28, 13.73it/s]\n"
     ]
    },
    {
     "name": "stdout",
     "output_type": "stream",
     "text": [
      "Epoch 60/100, Train Loss: 569.6729, Val Loss: 1670.3507\n"
     ]
    },
    {
     "name": "stderr",
     "output_type": "stream",
     "text": [
      "Epoch 61/100: 389it [00:28, 13.63it/s]\n"
     ]
    },
    {
     "name": "stdout",
     "output_type": "stream",
     "text": [
      "Epoch 61/100, Train Loss: 566.0147, Val Loss: 1864.1036\n"
     ]
    },
    {
     "name": "stderr",
     "output_type": "stream",
     "text": [
      "Epoch 62/100: 389it [00:28, 13.77it/s]\n"
     ]
    },
    {
     "name": "stdout",
     "output_type": "stream",
     "text": [
      "Epoch 62/100, Train Loss: 561.6587, Val Loss: 1932.0916\n"
     ]
    },
    {
     "name": "stderr",
     "output_type": "stream",
     "text": [
      "Epoch 63/100: 389it [00:28, 13.78it/s]\n"
     ]
    },
    {
     "name": "stdout",
     "output_type": "stream",
     "text": [
      "Epoch 63/100, Train Loss: 528.1449, Val Loss: 1889.3208\n"
     ]
    },
    {
     "name": "stderr",
     "output_type": "stream",
     "text": [
      "Epoch 64/100: 389it [00:29, 13.06it/s]\n"
     ]
    },
    {
     "name": "stdout",
     "output_type": "stream",
     "text": [
      "Epoch 64/100, Train Loss: 558.9976, Val Loss: 1672.8765\n"
     ]
    },
    {
     "name": "stderr",
     "output_type": "stream",
     "text": [
      "Epoch 65/100: 389it [00:29, 13.19it/s]\n"
     ]
    },
    {
     "name": "stdout",
     "output_type": "stream",
     "text": [
      "Epoch 65/100, Train Loss: 563.7995, Val Loss: 1926.9619\n"
     ]
    },
    {
     "name": "stderr",
     "output_type": "stream",
     "text": [
      "Epoch 66/100: 389it [00:28, 13.63it/s]\n"
     ]
    },
    {
     "name": "stdout",
     "output_type": "stream",
     "text": [
      "Epoch 66/100, Train Loss: 549.7179, Val Loss: 1648.2764\n"
     ]
    },
    {
     "name": "stderr",
     "output_type": "stream",
     "text": [
      "Epoch 67/100: 389it [00:28, 13.60it/s]\n"
     ]
    },
    {
     "name": "stdout",
     "output_type": "stream",
     "text": [
      "Epoch 67/100, Train Loss: 563.5740, Val Loss: 1735.6748\n"
     ]
    },
    {
     "name": "stderr",
     "output_type": "stream",
     "text": [
      "Epoch 68/100: 389it [00:28, 13.75it/s]\n"
     ]
    },
    {
     "name": "stdout",
     "output_type": "stream",
     "text": [
      "Epoch 68/100, Train Loss: 544.5132, Val Loss: 2509.0883\n"
     ]
    },
    {
     "name": "stderr",
     "output_type": "stream",
     "text": [
      "Epoch 69/100: 389it [00:28, 13.72it/s]\n"
     ]
    },
    {
     "name": "stdout",
     "output_type": "stream",
     "text": [
      "Epoch 69/100, Train Loss: 548.4745, Val Loss: 1780.3579\n"
     ]
    },
    {
     "name": "stderr",
     "output_type": "stream",
     "text": [
      "Epoch 70/100: 389it [00:28, 13.79it/s]\n"
     ]
    },
    {
     "name": "stdout",
     "output_type": "stream",
     "text": [
      "Epoch 70/100, Train Loss: 543.9964, Val Loss: 1856.1322\n"
     ]
    },
    {
     "name": "stderr",
     "output_type": "stream",
     "text": [
      "Epoch 71/100: 389it [00:28, 13.74it/s]\n"
     ]
    },
    {
     "name": "stdout",
     "output_type": "stream",
     "text": [
      "Epoch 71/100, Train Loss: 544.2484, Val Loss: 1746.5534\n"
     ]
    },
    {
     "name": "stderr",
     "output_type": "stream",
     "text": [
      "Epoch 72/100: 389it [00:28, 13.68it/s]\n"
     ]
    },
    {
     "name": "stdout",
     "output_type": "stream",
     "text": [
      "Epoch 72/100, Train Loss: 530.3894, Val Loss: 1957.5132\n"
     ]
    },
    {
     "name": "stderr",
     "output_type": "stream",
     "text": [
      "Epoch 73/100: 389it [00:28, 13.65it/s]\n"
     ]
    },
    {
     "name": "stdout",
     "output_type": "stream",
     "text": [
      "Epoch 73/100, Train Loss: 532.5720, Val Loss: 1955.6845\n"
     ]
    },
    {
     "name": "stderr",
     "output_type": "stream",
     "text": [
      "Epoch 74/100: 389it [00:28, 13.70it/s]\n"
     ]
    },
    {
     "name": "stdout",
     "output_type": "stream",
     "text": [
      "Epoch 74/100, Train Loss: 554.5449, Val Loss: 1642.9692\n"
     ]
    },
    {
     "name": "stderr",
     "output_type": "stream",
     "text": [
      "Epoch 75/100: 389it [00:28, 13.72it/s]\n"
     ]
    },
    {
     "name": "stdout",
     "output_type": "stream",
     "text": [
      "Epoch 75/100, Train Loss: 565.4843, Val Loss: 1689.6494\n"
     ]
    },
    {
     "name": "stderr",
     "output_type": "stream",
     "text": [
      "Epoch 76/100: 389it [00:28, 13.69it/s]\n"
     ]
    },
    {
     "name": "stdout",
     "output_type": "stream",
     "text": [
      "Epoch 76/100, Train Loss: 556.1559, Val Loss: 1573.4775\n"
     ]
    },
    {
     "name": "stderr",
     "output_type": "stream",
     "text": [
      "Epoch 77/100: 389it [00:28, 13.78it/s]\n"
     ]
    },
    {
     "name": "stdout",
     "output_type": "stream",
     "text": [
      "Epoch 77/100, Train Loss: 549.5782, Val Loss: 2241.9902\n"
     ]
    },
    {
     "name": "stderr",
     "output_type": "stream",
     "text": [
      "Epoch 78/100: 389it [00:28, 13.72it/s]\n"
     ]
    },
    {
     "name": "stdout",
     "output_type": "stream",
     "text": [
      "Epoch 78/100, Train Loss: 537.7115, Val Loss: 1480.7205\n"
     ]
    },
    {
     "name": "stderr",
     "output_type": "stream",
     "text": [
      "Epoch 79/100: 389it [00:28, 13.70it/s]\n"
     ]
    },
    {
     "name": "stdout",
     "output_type": "stream",
     "text": [
      "Epoch 79/100, Train Loss: 534.1136, Val Loss: 1628.1453\n"
     ]
    },
    {
     "name": "stderr",
     "output_type": "stream",
     "text": [
      "Epoch 80/100: 389it [00:28, 13.71it/s]\n"
     ]
    },
    {
     "name": "stdout",
     "output_type": "stream",
     "text": [
      "Epoch 80/100, Train Loss: 548.7600, Val Loss: 1754.2058\n"
     ]
    },
    {
     "name": "stderr",
     "output_type": "stream",
     "text": [
      "Epoch 81/100: 389it [00:28, 13.69it/s]\n"
     ]
    },
    {
     "name": "stdout",
     "output_type": "stream",
     "text": [
      "Epoch 81/100, Train Loss: 531.7751, Val Loss: 2021.6150\n"
     ]
    },
    {
     "name": "stderr",
     "output_type": "stream",
     "text": [
      "Epoch 82/100: 389it [00:28, 13.67it/s]\n"
     ]
    },
    {
     "name": "stdout",
     "output_type": "stream",
     "text": [
      "Epoch 82/100, Train Loss: 540.0659, Val Loss: 1608.7710\n"
     ]
    },
    {
     "name": "stderr",
     "output_type": "stream",
     "text": [
      "Epoch 83/100: 389it [00:29, 13.40it/s]\n"
     ]
    },
    {
     "name": "stdout",
     "output_type": "stream",
     "text": [
      "Epoch 83/100, Train Loss: 550.0294, Val Loss: 2007.0086\n"
     ]
    },
    {
     "name": "stderr",
     "output_type": "stream",
     "text": [
      "Epoch 84/100: 389it [00:29, 13.23it/s]\n"
     ]
    },
    {
     "name": "stdout",
     "output_type": "stream",
     "text": [
      "Epoch 84/100, Train Loss: 545.0355, Val Loss: 1952.5428\n"
     ]
    },
    {
     "name": "stderr",
     "output_type": "stream",
     "text": [
      "Epoch 85/100: 389it [00:28, 13.64it/s]\n"
     ]
    },
    {
     "name": "stdout",
     "output_type": "stream",
     "text": [
      "Epoch 85/100, Train Loss: 560.9363, Val Loss: 2145.9477\n"
     ]
    },
    {
     "name": "stderr",
     "output_type": "stream",
     "text": [
      "Epoch 86/100: 389it [00:28, 13.70it/s]\n"
     ]
    },
    {
     "name": "stdout",
     "output_type": "stream",
     "text": [
      "Epoch 86/100, Train Loss: 563.9988, Val Loss: 1854.1805\n"
     ]
    },
    {
     "name": "stderr",
     "output_type": "stream",
     "text": [
      "Epoch 87/100: 389it [00:28, 13.69it/s]\n"
     ]
    },
    {
     "name": "stdout",
     "output_type": "stream",
     "text": [
      "Epoch 87/100, Train Loss: 543.9817, Val Loss: 1625.5910\n"
     ]
    },
    {
     "name": "stderr",
     "output_type": "stream",
     "text": [
      "Epoch 88/100: 389it [00:28, 13.74it/s]\n"
     ]
    },
    {
     "name": "stdout",
     "output_type": "stream",
     "text": [
      "Epoch 88/100, Train Loss: 531.6940, Val Loss: 1814.6107\n"
     ]
    },
    {
     "name": "stderr",
     "output_type": "stream",
     "text": [
      "Epoch 89/100: 389it [00:28, 13.72it/s]\n"
     ]
    },
    {
     "name": "stdout",
     "output_type": "stream",
     "text": [
      "Epoch 89/100, Train Loss: 544.5047, Val Loss: 1730.3378\n"
     ]
    },
    {
     "name": "stderr",
     "output_type": "stream",
     "text": [
      "Epoch 90/100: 389it [00:28, 13.75it/s]\n"
     ]
    },
    {
     "name": "stdout",
     "output_type": "stream",
     "text": [
      "Epoch 90/100, Train Loss: 532.6824, Val Loss: 1820.3743\n"
     ]
    },
    {
     "name": "stderr",
     "output_type": "stream",
     "text": [
      "Epoch 91/100: 389it [00:29, 13.32it/s]\n"
     ]
    },
    {
     "name": "stdout",
     "output_type": "stream",
     "text": [
      "Epoch 91/100, Train Loss: 550.1690, Val Loss: 1857.4788\n"
     ]
    },
    {
     "name": "stderr",
     "output_type": "stream",
     "text": [
      "Epoch 92/100: 389it [00:28, 13.70it/s]\n"
     ]
    },
    {
     "name": "stdout",
     "output_type": "stream",
     "text": [
      "Epoch 92/100, Train Loss: 552.3021, Val Loss: 2764.0387\n"
     ]
    },
    {
     "name": "stderr",
     "output_type": "stream",
     "text": [
      "Epoch 93/100: 389it [00:28, 13.66it/s]\n"
     ]
    },
    {
     "name": "stdout",
     "output_type": "stream",
     "text": [
      "Epoch 93/100, Train Loss: 527.2795, Val Loss: 3433.3760\n"
     ]
    },
    {
     "name": "stderr",
     "output_type": "stream",
     "text": [
      "Epoch 94/100: 389it [00:28, 13.70it/s]\n"
     ]
    },
    {
     "name": "stdout",
     "output_type": "stream",
     "text": [
      "Epoch 94/100, Train Loss: 550.1475, Val Loss: 7741.7419\n"
     ]
    },
    {
     "name": "stderr",
     "output_type": "stream",
     "text": [
      "Epoch 95/100: 389it [00:28, 13.67it/s]\n"
     ]
    },
    {
     "name": "stdout",
     "output_type": "stream",
     "text": [
      "Epoch 95/100, Train Loss: 522.8235, Val Loss: 1702.0680\n"
     ]
    },
    {
     "name": "stderr",
     "output_type": "stream",
     "text": [
      "Epoch 96/100: 389it [00:28, 13.72it/s]\n"
     ]
    },
    {
     "name": "stdout",
     "output_type": "stream",
     "text": [
      "Epoch 96/100, Train Loss: 536.7910, Val Loss: 1617.9761\n"
     ]
    },
    {
     "name": "stderr",
     "output_type": "stream",
     "text": [
      "Epoch 97/100: 389it [00:28, 13.74it/s]\n"
     ]
    },
    {
     "name": "stdout",
     "output_type": "stream",
     "text": [
      "Epoch 97/100, Train Loss: 529.2581, Val Loss: 1865.1708\n"
     ]
    },
    {
     "name": "stderr",
     "output_type": "stream",
     "text": [
      "Epoch 98/100: 389it [00:28, 13.71it/s]\n"
     ]
    },
    {
     "name": "stdout",
     "output_type": "stream",
     "text": [
      "Epoch 98/100, Train Loss: 543.1876, Val Loss: 1792.0986\n"
     ]
    },
    {
     "name": "stderr",
     "output_type": "stream",
     "text": [
      "Epoch 99/100: 389it [00:28, 13.68it/s]\n"
     ]
    },
    {
     "name": "stdout",
     "output_type": "stream",
     "text": [
      "Epoch 99/100, Train Loss: 534.4144, Val Loss: 1858.6473\n"
     ]
    },
    {
     "name": "stderr",
     "output_type": "stream",
     "text": [
      "Epoch 100/100: 389it [00:28, 13.67it/s]\n"
     ]
    },
    {
     "name": "stdout",
     "output_type": "stream",
     "text": [
      "Epoch 100/100, Train Loss: 536.9317, Val Loss: 2303.1295\n"
     ]
    },
    {
     "name": "stderr",
     "output_type": "stream",
     "text": [
      "Epoch 1/100: 389it [01:13,  5.28it/s]\n"
     ]
    },
    {
     "name": "stdout",
     "output_type": "stream",
     "text": [
      "Epoch 1/100, Train Loss: 22436.3165, Val Loss: 20905.4539\n"
     ]
    },
    {
     "name": "stderr",
     "output_type": "stream",
     "text": [
      "Epoch 2/100: 389it [01:13,  5.30it/s]\n"
     ]
    },
    {
     "name": "stdout",
     "output_type": "stream",
     "text": [
      "Epoch 2/100, Train Loss: 12326.1328, Val Loss: 12317.9995\n"
     ]
    },
    {
     "name": "stderr",
     "output_type": "stream",
     "text": [
      "Epoch 3/100: 389it [01:13,  5.29it/s]\n"
     ]
    },
    {
     "name": "stdout",
     "output_type": "stream",
     "text": [
      "Epoch 3/100, Train Loss: 5628.4702, Val Loss: 9209.0871\n"
     ]
    },
    {
     "name": "stderr",
     "output_type": "stream",
     "text": [
      "Epoch 4/100: 389it [01:13,  5.31it/s]\n"
     ]
    },
    {
     "name": "stdout",
     "output_type": "stream",
     "text": [
      "Epoch 4/100, Train Loss: 3404.4338, Val Loss: 4667.5888\n"
     ]
    },
    {
     "name": "stderr",
     "output_type": "stream",
     "text": [
      "Epoch 5/100: 389it [01:13,  5.31it/s]\n"
     ]
    },
    {
     "name": "stdout",
     "output_type": "stream",
     "text": [
      "Epoch 5/100, Train Loss: 2018.1125, Val Loss: 2470.1429\n"
     ]
    },
    {
     "name": "stderr",
     "output_type": "stream",
     "text": [
      "Epoch 6/100: 389it [01:13,  5.30it/s]\n"
     ]
    },
    {
     "name": "stdout",
     "output_type": "stream",
     "text": [
      "Epoch 6/100, Train Loss: 1152.9957, Val Loss: 1580.7331\n"
     ]
    },
    {
     "name": "stderr",
     "output_type": "stream",
     "text": [
      "Epoch 7/100: 389it [01:13,  5.30it/s]\n"
     ]
    },
    {
     "name": "stdout",
     "output_type": "stream",
     "text": [
      "Epoch 7/100, Train Loss: 1074.9693, Val Loss: 1463.3334\n"
     ]
    },
    {
     "name": "stderr",
     "output_type": "stream",
     "text": [
      "Epoch 8/100: 389it [01:13,  5.30it/s]\n"
     ]
    },
    {
     "name": "stdout",
     "output_type": "stream",
     "text": [
      "Epoch 8/100, Train Loss: 1018.3887, Val Loss: 1631.5903\n"
     ]
    },
    {
     "name": "stderr",
     "output_type": "stream",
     "text": [
      "Epoch 9/100: 389it [01:13,  5.32it/s]\n"
     ]
    },
    {
     "name": "stdout",
     "output_type": "stream",
     "text": [
      "Epoch 9/100, Train Loss: 952.2512, Val Loss: 1299.9728\n"
     ]
    },
    {
     "name": "stderr",
     "output_type": "stream",
     "text": [
      "Epoch 10/100: 389it [01:13,  5.32it/s]\n"
     ]
    },
    {
     "name": "stdout",
     "output_type": "stream",
     "text": [
      "Epoch 10/100, Train Loss: 864.9178, Val Loss: 1359.7520\n"
     ]
    },
    {
     "name": "stderr",
     "output_type": "stream",
     "text": [
      "Epoch 11/100: 389it [01:13,  5.32it/s]\n"
     ]
    },
    {
     "name": "stdout",
     "output_type": "stream",
     "text": [
      "Epoch 11/100, Train Loss: 809.7806, Val Loss: 1407.9068\n"
     ]
    },
    {
     "name": "stderr",
     "output_type": "stream",
     "text": [
      "Epoch 12/100: 389it [01:13,  5.32it/s]\n"
     ]
    },
    {
     "name": "stdout",
     "output_type": "stream",
     "text": [
      "Epoch 12/100, Train Loss: 798.0794, Val Loss: 1515.1842\n"
     ]
    },
    {
     "name": "stderr",
     "output_type": "stream",
     "text": [
      "Epoch 13/100: 389it [01:13,  5.32it/s]\n"
     ]
    },
    {
     "name": "stdout",
     "output_type": "stream",
     "text": [
      "Epoch 13/100, Train Loss: 781.2624, Val Loss: 1280.1426\n"
     ]
    },
    {
     "name": "stderr",
     "output_type": "stream",
     "text": [
      "Epoch 14/100: 389it [01:13,  5.31it/s]\n"
     ]
    },
    {
     "name": "stdout",
     "output_type": "stream",
     "text": [
      "Epoch 14/100, Train Loss: 769.0568, Val Loss: 1536.2271\n"
     ]
    },
    {
     "name": "stderr",
     "output_type": "stream",
     "text": [
      "Epoch 15/100: 389it [01:13,  5.31it/s]\n"
     ]
    },
    {
     "name": "stdout",
     "output_type": "stream",
     "text": [
      "Epoch 15/100, Train Loss: 729.1313, Val Loss: 1267.5003\n"
     ]
    },
    {
     "name": "stderr",
     "output_type": "stream",
     "text": [
      "Epoch 16/100: 389it [01:13,  5.31it/s]\n"
     ]
    },
    {
     "name": "stdout",
     "output_type": "stream",
     "text": [
      "Epoch 16/100, Train Loss: 704.5300, Val Loss: 1393.0404\n"
     ]
    },
    {
     "name": "stderr",
     "output_type": "stream",
     "text": [
      "Epoch 17/100: 389it [01:13,  5.31it/s]\n"
     ]
    },
    {
     "name": "stdout",
     "output_type": "stream",
     "text": [
      "Epoch 17/100, Train Loss: 673.3749, Val Loss: 1444.9634\n"
     ]
    },
    {
     "name": "stderr",
     "output_type": "stream",
     "text": [
      "Epoch 18/100: 389it [01:13,  5.31it/s]\n"
     ]
    },
    {
     "name": "stdout",
     "output_type": "stream",
     "text": [
      "Epoch 18/100, Train Loss: 696.9049, Val Loss: 1885.6904\n"
     ]
    },
    {
     "name": "stderr",
     "output_type": "stream",
     "text": [
      "Epoch 19/100: 389it [01:13,  5.31it/s]\n"
     ]
    },
    {
     "name": "stdout",
     "output_type": "stream",
     "text": [
      "Epoch 19/100, Train Loss: 665.4681, Val Loss: 1223.0499\n"
     ]
    },
    {
     "name": "stderr",
     "output_type": "stream",
     "text": [
      "Epoch 20/100: 389it [01:13,  5.31it/s]\n"
     ]
    },
    {
     "name": "stdout",
     "output_type": "stream",
     "text": [
      "Epoch 20/100, Train Loss: 652.4031, Val Loss: 1397.9669\n"
     ]
    },
    {
     "name": "stderr",
     "output_type": "stream",
     "text": [
      "Epoch 21/100: 389it [01:13,  5.31it/s]\n"
     ]
    },
    {
     "name": "stdout",
     "output_type": "stream",
     "text": [
      "Epoch 21/100, Train Loss: 660.1125, Val Loss: 1553.4220\n"
     ]
    },
    {
     "name": "stderr",
     "output_type": "stream",
     "text": [
      "Epoch 22/100: 389it [01:13,  5.31it/s]\n"
     ]
    },
    {
     "name": "stdout",
     "output_type": "stream",
     "text": [
      "Epoch 22/100, Train Loss: 636.6872, Val Loss: 1407.3722\n"
     ]
    },
    {
     "name": "stderr",
     "output_type": "stream",
     "text": [
      "Epoch 23/100: 389it [01:13,  5.27it/s]\n"
     ]
    },
    {
     "name": "stdout",
     "output_type": "stream",
     "text": [
      "Epoch 23/100, Train Loss: 668.1152, Val Loss: 1466.0079\n"
     ]
    },
    {
     "name": "stderr",
     "output_type": "stream",
     "text": [
      "Epoch 24/100: 389it [01:13,  5.32it/s]\n"
     ]
    },
    {
     "name": "stdout",
     "output_type": "stream",
     "text": [
      "Epoch 24/100, Train Loss: 661.2993, Val Loss: 1112.7969\n"
     ]
    },
    {
     "name": "stderr",
     "output_type": "stream",
     "text": [
      "Epoch 25/100: 389it [01:13,  5.31it/s]\n"
     ]
    },
    {
     "name": "stdout",
     "output_type": "stream",
     "text": [
      "Epoch 25/100, Train Loss: 657.4036, Val Loss: 1460.0005\n"
     ]
    },
    {
     "name": "stderr",
     "output_type": "stream",
     "text": [
      "Epoch 26/100: 389it [01:13,  5.32it/s]\n"
     ]
    },
    {
     "name": "stdout",
     "output_type": "stream",
     "text": [
      "Epoch 26/100, Train Loss: 656.6203, Val Loss: 984.2092\n"
     ]
    },
    {
     "name": "stderr",
     "output_type": "stream",
     "text": [
      "Epoch 27/100: 389it [01:13,  5.31it/s]\n"
     ]
    },
    {
     "name": "stdout",
     "output_type": "stream",
     "text": [
      "Epoch 27/100, Train Loss: 587.8544, Val Loss: 1437.2619\n"
     ]
    },
    {
     "name": "stderr",
     "output_type": "stream",
     "text": [
      "Epoch 28/100: 389it [01:13,  5.31it/s]\n"
     ]
    },
    {
     "name": "stdout",
     "output_type": "stream",
     "text": [
      "Epoch 28/100, Train Loss: 612.0836, Val Loss: 1027.8147\n"
     ]
    },
    {
     "name": "stderr",
     "output_type": "stream",
     "text": [
      "Epoch 29/100: 389it [01:13,  5.32it/s]\n"
     ]
    },
    {
     "name": "stdout",
     "output_type": "stream",
     "text": [
      "Epoch 29/100, Train Loss: 677.0674, Val Loss: 1240.0698\n"
     ]
    },
    {
     "name": "stderr",
     "output_type": "stream",
     "text": [
      "Epoch 30/100: 389it [01:13,  5.30it/s]\n"
     ]
    },
    {
     "name": "stdout",
     "output_type": "stream",
     "text": [
      "Epoch 30/100, Train Loss: 638.9311, Val Loss: 1099.6343\n"
     ]
    },
    {
     "name": "stderr",
     "output_type": "stream",
     "text": [
      "Epoch 31/100: 389it [01:13,  5.32it/s]\n"
     ]
    },
    {
     "name": "stdout",
     "output_type": "stream",
     "text": [
      "Epoch 31/100, Train Loss: 598.9884, Val Loss: 1581.8877\n"
     ]
    },
    {
     "name": "stderr",
     "output_type": "stream",
     "text": [
      "Epoch 32/100: 389it [01:13,  5.31it/s]\n"
     ]
    },
    {
     "name": "stdout",
     "output_type": "stream",
     "text": [
      "Epoch 32/100, Train Loss: 621.8000, Val Loss: 1056.6242\n"
     ]
    },
    {
     "name": "stderr",
     "output_type": "stream",
     "text": [
      "Epoch 33/100: 389it [01:13,  5.32it/s]\n"
     ]
    },
    {
     "name": "stdout",
     "output_type": "stream",
     "text": [
      "Epoch 33/100, Train Loss: 622.3464, Val Loss: 1312.7717\n"
     ]
    },
    {
     "name": "stderr",
     "output_type": "stream",
     "text": [
      "Epoch 34/100: 389it [01:13,  5.30it/s]\n"
     ]
    },
    {
     "name": "stdout",
     "output_type": "stream",
     "text": [
      "Epoch 34/100, Train Loss: 600.2293, Val Loss: 1114.4103\n"
     ]
    },
    {
     "name": "stderr",
     "output_type": "stream",
     "text": [
      "Epoch 35/100: 389it [01:13,  5.31it/s]\n"
     ]
    },
    {
     "name": "stdout",
     "output_type": "stream",
     "text": [
      "Epoch 35/100, Train Loss: 592.1024, Val Loss: 1840.0789\n"
     ]
    },
    {
     "name": "stderr",
     "output_type": "stream",
     "text": [
      "Epoch 36/100: 389it [01:13,  5.31it/s]\n"
     ]
    },
    {
     "name": "stdout",
     "output_type": "stream",
     "text": [
      "Epoch 36/100, Train Loss: 598.5839, Val Loss: 1277.0843\n"
     ]
    },
    {
     "name": "stderr",
     "output_type": "stream",
     "text": [
      "Epoch 37/100: 389it [01:13,  5.31it/s]\n"
     ]
    },
    {
     "name": "stdout",
     "output_type": "stream",
     "text": [
      "Epoch 37/100, Train Loss: 603.7528, Val Loss: 1290.4061\n"
     ]
    },
    {
     "name": "stderr",
     "output_type": "stream",
     "text": [
      "Epoch 38/100: 389it [01:13,  5.28it/s]\n"
     ]
    },
    {
     "name": "stdout",
     "output_type": "stream",
     "text": [
      "Epoch 38/100, Train Loss: 578.6723, Val Loss: 1463.8909\n"
     ]
    },
    {
     "name": "stderr",
     "output_type": "stream",
     "text": [
      "Epoch 39/100: 389it [01:13,  5.28it/s]\n"
     ]
    },
    {
     "name": "stdout",
     "output_type": "stream",
     "text": [
      "Epoch 39/100, Train Loss: 607.1392, Val Loss: 1231.9008\n"
     ]
    },
    {
     "name": "stderr",
     "output_type": "stream",
     "text": [
      "Epoch 40/100: 389it [01:14,  5.24it/s]\n"
     ]
    },
    {
     "name": "stdout",
     "output_type": "stream",
     "text": [
      "Epoch 40/100, Train Loss: 588.3203, Val Loss: 1473.7765\n"
     ]
    },
    {
     "name": "stderr",
     "output_type": "stream",
     "text": [
      "Epoch 41/100: 389it [01:13,  5.30it/s]\n"
     ]
    },
    {
     "name": "stdout",
     "output_type": "stream",
     "text": [
      "Epoch 41/100, Train Loss: 609.9049, Val Loss: 1362.4782\n"
     ]
    },
    {
     "name": "stderr",
     "output_type": "stream",
     "text": [
      "Epoch 42/100: 389it [01:13,  5.31it/s]\n"
     ]
    },
    {
     "name": "stdout",
     "output_type": "stream",
     "text": [
      "Epoch 42/100, Train Loss: 584.9002, Val Loss: 1277.5223\n"
     ]
    },
    {
     "name": "stderr",
     "output_type": "stream",
     "text": [
      "Epoch 43/100: 389it [01:13,  5.31it/s]\n"
     ]
    },
    {
     "name": "stdout",
     "output_type": "stream",
     "text": [
      "Epoch 43/100, Train Loss: 584.4267, Val Loss: 958.2344\n"
     ]
    },
    {
     "name": "stderr",
     "output_type": "stream",
     "text": [
      "Epoch 44/100: 389it [01:13,  5.31it/s]\n"
     ]
    },
    {
     "name": "stdout",
     "output_type": "stream",
     "text": [
      "Epoch 44/100, Train Loss: 552.4987, Val Loss: 2885.6936\n"
     ]
    },
    {
     "name": "stderr",
     "output_type": "stream",
     "text": [
      "Epoch 45/100: 389it [01:13,  5.31it/s]\n"
     ]
    },
    {
     "name": "stdout",
     "output_type": "stream",
     "text": [
      "Epoch 45/100, Train Loss: 585.5047, Val Loss: 1142.5097\n"
     ]
    },
    {
     "name": "stderr",
     "output_type": "stream",
     "text": [
      "Epoch 46/100: 389it [01:13,  5.28it/s]\n"
     ]
    },
    {
     "name": "stdout",
     "output_type": "stream",
     "text": [
      "Epoch 46/100, Train Loss: 556.4188, Val Loss: 1024.0857\n"
     ]
    },
    {
     "name": "stderr",
     "output_type": "stream",
     "text": [
      "Epoch 47/100: 389it [01:12,  5.34it/s]\n"
     ]
    },
    {
     "name": "stdout",
     "output_type": "stream",
     "text": [
      "Epoch 47/100, Train Loss: 563.0245, Val Loss: 964.1149\n"
     ]
    },
    {
     "name": "stderr",
     "output_type": "stream",
     "text": [
      "Epoch 48/100: 389it [01:13,  5.30it/s]\n"
     ]
    },
    {
     "name": "stdout",
     "output_type": "stream",
     "text": [
      "Epoch 48/100, Train Loss: 583.4912, Val Loss: 1173.8324\n"
     ]
    },
    {
     "name": "stderr",
     "output_type": "stream",
     "text": [
      "Epoch 49/100: 389it [01:12,  5.33it/s]\n"
     ]
    },
    {
     "name": "stdout",
     "output_type": "stream",
     "text": [
      "Epoch 49/100, Train Loss: 566.8544, Val Loss: 1217.2736\n"
     ]
    },
    {
     "name": "stderr",
     "output_type": "stream",
     "text": [
      "Epoch 50/100: 389it [01:12,  5.33it/s]\n"
     ]
    },
    {
     "name": "stdout",
     "output_type": "stream",
     "text": [
      "Epoch 50/100, Train Loss: 579.2775, Val Loss: 1052.3499\n"
     ]
    },
    {
     "name": "stderr",
     "output_type": "stream",
     "text": [
      "Epoch 51/100: 389it [01:12,  5.34it/s]\n"
     ]
    },
    {
     "name": "stdout",
     "output_type": "stream",
     "text": [
      "Epoch 51/100, Train Loss: 589.7445, Val Loss: 1142.8862\n"
     ]
    },
    {
     "name": "stderr",
     "output_type": "stream",
     "text": [
      "Epoch 52/100: 389it [01:12,  5.33it/s]\n"
     ]
    },
    {
     "name": "stdout",
     "output_type": "stream",
     "text": [
      "Epoch 52/100, Train Loss: 575.9584, Val Loss: 1064.0996\n"
     ]
    },
    {
     "name": "stderr",
     "output_type": "stream",
     "text": [
      "Epoch 53/100: 389it [01:12,  5.34it/s]\n"
     ]
    },
    {
     "name": "stdout",
     "output_type": "stream",
     "text": [
      "Epoch 53/100, Train Loss: 583.3946, Val Loss: 1231.2820\n"
     ]
    },
    {
     "name": "stderr",
     "output_type": "stream",
     "text": [
      "Epoch 54/100: 389it [01:12,  5.33it/s]\n"
     ]
    },
    {
     "name": "stdout",
     "output_type": "stream",
     "text": [
      "Epoch 54/100, Train Loss: 563.9050, Val Loss: 995.7006\n"
     ]
    },
    {
     "name": "stderr",
     "output_type": "stream",
     "text": [
      "Epoch 55/100: 389it [01:12,  5.34it/s]\n"
     ]
    },
    {
     "name": "stdout",
     "output_type": "stream",
     "text": [
      "Epoch 55/100, Train Loss: 564.3217, Val Loss: 1118.8287\n"
     ]
    },
    {
     "name": "stderr",
     "output_type": "stream",
     "text": [
      "Epoch 56/100: 389it [01:12,  5.34it/s]\n"
     ]
    },
    {
     "name": "stdout",
     "output_type": "stream",
     "text": [
      "Epoch 56/100, Train Loss: 553.4954, Val Loss: 1446.7388\n"
     ]
    },
    {
     "name": "stderr",
     "output_type": "stream",
     "text": [
      "Epoch 57/100: 389it [01:13,  5.30it/s]\n"
     ]
    },
    {
     "name": "stdout",
     "output_type": "stream",
     "text": [
      "Epoch 57/100, Train Loss: 587.0100, Val Loss: 927.3592\n"
     ]
    },
    {
     "name": "stderr",
     "output_type": "stream",
     "text": [
      "Epoch 58/100: 389it [01:13,  5.32it/s]\n"
     ]
    },
    {
     "name": "stdout",
     "output_type": "stream",
     "text": [
      "Epoch 58/100, Train Loss: 576.1794, Val Loss: 1311.7293\n"
     ]
    },
    {
     "name": "stderr",
     "output_type": "stream",
     "text": [
      "Epoch 59/100: 389it [01:13,  5.29it/s]\n"
     ]
    },
    {
     "name": "stdout",
     "output_type": "stream",
     "text": [
      "Epoch 59/100, Train Loss: 586.9733, Val Loss: 990.4093\n"
     ]
    },
    {
     "name": "stderr",
     "output_type": "stream",
     "text": [
      "Epoch 60/100: 389it [01:13,  5.32it/s]\n"
     ]
    },
    {
     "name": "stdout",
     "output_type": "stream",
     "text": [
      "Epoch 60/100, Train Loss: 591.8131, Val Loss: 1131.4340\n"
     ]
    },
    {
     "name": "stderr",
     "output_type": "stream",
     "text": [
      "Epoch 61/100: 389it [01:12,  5.33it/s]\n"
     ]
    },
    {
     "name": "stdout",
     "output_type": "stream",
     "text": [
      "Epoch 61/100, Train Loss: 571.8516, Val Loss: 1285.4714\n"
     ]
    },
    {
     "name": "stderr",
     "output_type": "stream",
     "text": [
      "Epoch 62/100: 389it [01:13,  5.32it/s]\n"
     ]
    },
    {
     "name": "stdout",
     "output_type": "stream",
     "text": [
      "Epoch 62/100, Train Loss: 579.7934, Val Loss: 1039.5831\n"
     ]
    },
    {
     "name": "stderr",
     "output_type": "stream",
     "text": [
      "Epoch 63/100: 389it [01:12,  5.33it/s]\n"
     ]
    },
    {
     "name": "stdout",
     "output_type": "stream",
     "text": [
      "Epoch 63/100, Train Loss: 565.9421, Val Loss: 962.5488\n"
     ]
    },
    {
     "name": "stderr",
     "output_type": "stream",
     "text": [
      "Epoch 64/100: 389it [01:13,  5.30it/s]\n"
     ]
    },
    {
     "name": "stdout",
     "output_type": "stream",
     "text": [
      "Epoch 64/100, Train Loss: 594.3033, Val Loss: 1069.6588\n"
     ]
    },
    {
     "name": "stderr",
     "output_type": "stream",
     "text": [
      "Epoch 65/100: 389it [01:12,  5.33it/s]\n"
     ]
    },
    {
     "name": "stdout",
     "output_type": "stream",
     "text": [
      "Epoch 65/100, Train Loss: 562.0073, Val Loss: 1162.2570\n"
     ]
    },
    {
     "name": "stderr",
     "output_type": "stream",
     "text": [
      "Epoch 66/100: 389it [01:13,  5.29it/s]\n"
     ]
    },
    {
     "name": "stdout",
     "output_type": "stream",
     "text": [
      "Epoch 66/100, Train Loss: 561.1277, Val Loss: 942.7045\n"
     ]
    },
    {
     "name": "stderr",
     "output_type": "stream",
     "text": [
      "Epoch 67/100: 389it [01:13,  5.32it/s]\n"
     ]
    },
    {
     "name": "stdout",
     "output_type": "stream",
     "text": [
      "Epoch 67/100, Train Loss: 548.3965, Val Loss: 1048.1463\n"
     ]
    },
    {
     "name": "stderr",
     "output_type": "stream",
     "text": [
      "Epoch 68/100: 389it [01:13,  5.31it/s]\n"
     ]
    },
    {
     "name": "stdout",
     "output_type": "stream",
     "text": [
      "Epoch 68/100, Train Loss: 542.6478, Val Loss: 1220.6378\n"
     ]
    },
    {
     "name": "stderr",
     "output_type": "stream",
     "text": [
      "Epoch 69/100: 389it [01:13,  5.33it/s]\n"
     ]
    },
    {
     "name": "stdout",
     "output_type": "stream",
     "text": [
      "Epoch 69/100, Train Loss: 558.1077, Val Loss: 1225.7781\n"
     ]
    },
    {
     "name": "stderr",
     "output_type": "stream",
     "text": [
      "Epoch 70/100: 389it [01:13,  5.32it/s]\n"
     ]
    },
    {
     "name": "stdout",
     "output_type": "stream",
     "text": [
      "Epoch 70/100, Train Loss: 531.0888, Val Loss: 973.4465\n"
     ]
    },
    {
     "name": "stderr",
     "output_type": "stream",
     "text": [
      "Epoch 71/100: 389it [01:13,  5.31it/s]\n"
     ]
    },
    {
     "name": "stdout",
     "output_type": "stream",
     "text": [
      "Epoch 71/100, Train Loss: 564.9857, Val Loss: 1142.8694\n"
     ]
    },
    {
     "name": "stderr",
     "output_type": "stream",
     "text": [
      "Epoch 72/100: 389it [01:13,  5.33it/s]\n"
     ]
    },
    {
     "name": "stdout",
     "output_type": "stream",
     "text": [
      "Epoch 72/100, Train Loss: 546.6414, Val Loss: 977.4989\n"
     ]
    },
    {
     "name": "stderr",
     "output_type": "stream",
     "text": [
      "Epoch 73/100: 389it [01:13,  5.30it/s]\n"
     ]
    },
    {
     "name": "stdout",
     "output_type": "stream",
     "text": [
      "Epoch 73/100, Train Loss: 560.7982, Val Loss: 1245.9258\n"
     ]
    },
    {
     "name": "stderr",
     "output_type": "stream",
     "text": [
      "Epoch 74/100: 389it [01:13,  5.32it/s]\n"
     ]
    },
    {
     "name": "stdout",
     "output_type": "stream",
     "text": [
      "Epoch 74/100, Train Loss: 553.9214, Val Loss: 1021.0859\n"
     ]
    },
    {
     "name": "stderr",
     "output_type": "stream",
     "text": [
      "Epoch 75/100: 389it [01:13,  5.30it/s]\n"
     ]
    },
    {
     "name": "stdout",
     "output_type": "stream",
     "text": [
      "Epoch 75/100, Train Loss: 530.3640, Val Loss: 1379.9379\n"
     ]
    },
    {
     "name": "stderr",
     "output_type": "stream",
     "text": [
      "Epoch 76/100: 389it [01:12,  5.33it/s]\n"
     ]
    },
    {
     "name": "stdout",
     "output_type": "stream",
     "text": [
      "Epoch 76/100, Train Loss: 532.7898, Val Loss: 1163.0775\n"
     ]
    },
    {
     "name": "stderr",
     "output_type": "stream",
     "text": [
      "Epoch 77/100: 389it [01:12,  5.33it/s]\n"
     ]
    },
    {
     "name": "stdout",
     "output_type": "stream",
     "text": [
      "Epoch 77/100, Train Loss: 534.6583, Val Loss: 1336.8908\n"
     ]
    },
    {
     "name": "stderr",
     "output_type": "stream",
     "text": [
      "Epoch 78/100: 389it [01:13,  5.32it/s]\n"
     ]
    },
    {
     "name": "stdout",
     "output_type": "stream",
     "text": [
      "Epoch 78/100, Train Loss: 543.2972, Val Loss: 1096.4052\n"
     ]
    },
    {
     "name": "stderr",
     "output_type": "stream",
     "text": [
      "Epoch 79/100: 389it [01:13,  5.32it/s]\n"
     ]
    },
    {
     "name": "stdout",
     "output_type": "stream",
     "text": [
      "Epoch 79/100, Train Loss: 528.9580, Val Loss: 1140.1887\n"
     ]
    },
    {
     "name": "stderr",
     "output_type": "stream",
     "text": [
      "Epoch 80/100: 389it [01:13,  5.32it/s]\n"
     ]
    },
    {
     "name": "stdout",
     "output_type": "stream",
     "text": [
      "Epoch 80/100, Train Loss: 572.9239, Val Loss: 1097.7813\n"
     ]
    },
    {
     "name": "stderr",
     "output_type": "stream",
     "text": [
      "Epoch 81/100: 389it [01:13,  5.32it/s]\n"
     ]
    },
    {
     "name": "stdout",
     "output_type": "stream",
     "text": [
      "Epoch 81/100, Train Loss: 543.5936, Val Loss: 1195.9882\n"
     ]
    },
    {
     "name": "stderr",
     "output_type": "stream",
     "text": [
      "Epoch 82/100: 389it [01:13,  5.32it/s]\n"
     ]
    },
    {
     "name": "stdout",
     "output_type": "stream",
     "text": [
      "Epoch 82/100, Train Loss: 525.1268, Val Loss: 1251.4709\n"
     ]
    },
    {
     "name": "stderr",
     "output_type": "stream",
     "text": [
      "Epoch 83/100: 389it [01:13,  5.33it/s]\n"
     ]
    },
    {
     "name": "stdout",
     "output_type": "stream",
     "text": [
      "Epoch 83/100, Train Loss: 545.6777, Val Loss: 1239.0767\n"
     ]
    },
    {
     "name": "stderr",
     "output_type": "stream",
     "text": [
      "Epoch 84/100: 389it [01:13,  5.33it/s]\n"
     ]
    },
    {
     "name": "stdout",
     "output_type": "stream",
     "text": [
      "Epoch 84/100, Train Loss: 537.1776, Val Loss: 1296.2116\n"
     ]
    },
    {
     "name": "stderr",
     "output_type": "stream",
     "text": [
      "Epoch 85/100: 389it [01:13,  5.33it/s]\n"
     ]
    },
    {
     "name": "stdout",
     "output_type": "stream",
     "text": [
      "Epoch 85/100, Train Loss: 518.7512, Val Loss: 1139.1562\n"
     ]
    },
    {
     "name": "stderr",
     "output_type": "stream",
     "text": [
      "Epoch 86/100: 389it [01:13,  5.33it/s]\n"
     ]
    },
    {
     "name": "stdout",
     "output_type": "stream",
     "text": [
      "Epoch 86/100, Train Loss: 543.3416, Val Loss: 1123.4627\n"
     ]
    },
    {
     "name": "stderr",
     "output_type": "stream",
     "text": [
      "Epoch 87/100: 389it [01:13,  5.32it/s]\n"
     ]
    },
    {
     "name": "stdout",
     "output_type": "stream",
     "text": [
      "Epoch 87/100, Train Loss: 534.4307, Val Loss: 1455.2214\n"
     ]
    },
    {
     "name": "stderr",
     "output_type": "stream",
     "text": [
      "Epoch 88/100: 389it [01:12,  5.34it/s]\n"
     ]
    },
    {
     "name": "stdout",
     "output_type": "stream",
     "text": [
      "Epoch 88/100, Train Loss: 526.8702, Val Loss: 1021.9362\n"
     ]
    },
    {
     "name": "stderr",
     "output_type": "stream",
     "text": [
      "Epoch 89/100: 389it [01:13,  5.30it/s]\n"
     ]
    },
    {
     "name": "stdout",
     "output_type": "stream",
     "text": [
      "Epoch 89/100, Train Loss: 526.0123, Val Loss: 1170.8334\n"
     ]
    },
    {
     "name": "stderr",
     "output_type": "stream",
     "text": [
      "Epoch 90/100: 389it [01:12,  5.34it/s]\n"
     ]
    },
    {
     "name": "stdout",
     "output_type": "stream",
     "text": [
      "Epoch 90/100, Train Loss: 526.8944, Val Loss: 1271.8185\n"
     ]
    },
    {
     "name": "stderr",
     "output_type": "stream",
     "text": [
      "Epoch 91/100: 389it [01:13,  5.27it/s]\n"
     ]
    },
    {
     "name": "stdout",
     "output_type": "stream",
     "text": [
      "Epoch 91/100, Train Loss: 526.3404, Val Loss: 1044.9947\n"
     ]
    },
    {
     "name": "stderr",
     "output_type": "stream",
     "text": [
      "Epoch 92/100: 389it [01:13,  5.31it/s]\n"
     ]
    },
    {
     "name": "stdout",
     "output_type": "stream",
     "text": [
      "Epoch 92/100, Train Loss: 537.6421, Val Loss: 1095.0832\n"
     ]
    },
    {
     "name": "stderr",
     "output_type": "stream",
     "text": [
      "Epoch 93/100: 389it [01:13,  5.26it/s]\n"
     ]
    },
    {
     "name": "stdout",
     "output_type": "stream",
     "text": [
      "Epoch 93/100, Train Loss: 515.0545, Val Loss: 1428.6600\n"
     ]
    },
    {
     "name": "stderr",
     "output_type": "stream",
     "text": [
      "Epoch 94/100: 389it [01:13,  5.32it/s]\n"
     ]
    },
    {
     "name": "stdout",
     "output_type": "stream",
     "text": [
      "Epoch 94/100, Train Loss: 553.7015, Val Loss: 1127.6092\n"
     ]
    },
    {
     "name": "stderr",
     "output_type": "stream",
     "text": [
      "Epoch 95/100: 389it [01:12,  5.33it/s]\n"
     ]
    },
    {
     "name": "stdout",
     "output_type": "stream",
     "text": [
      "Epoch 95/100, Train Loss: 528.7651, Val Loss: 1268.9354\n"
     ]
    },
    {
     "name": "stderr",
     "output_type": "stream",
     "text": [
      "Epoch 96/100: 389it [01:12,  5.35it/s]\n"
     ]
    },
    {
     "name": "stdout",
     "output_type": "stream",
     "text": [
      "Epoch 96/100, Train Loss: 544.5153, Val Loss: 1122.5687\n"
     ]
    },
    {
     "name": "stderr",
     "output_type": "stream",
     "text": [
      "Epoch 97/100: 389it [01:12,  5.34it/s]\n"
     ]
    },
    {
     "name": "stdout",
     "output_type": "stream",
     "text": [
      "Epoch 97/100, Train Loss: 536.2306, Val Loss: 980.4212\n"
     ]
    },
    {
     "name": "stderr",
     "output_type": "stream",
     "text": [
      "Epoch 98/100: 389it [01:13,  5.31it/s]\n"
     ]
    },
    {
     "name": "stdout",
     "output_type": "stream",
     "text": [
      "Epoch 98/100, Train Loss: 528.3994, Val Loss: 1050.8370\n"
     ]
    },
    {
     "name": "stderr",
     "output_type": "stream",
     "text": [
      "Epoch 99/100: 389it [01:13,  5.32it/s]\n"
     ]
    },
    {
     "name": "stdout",
     "output_type": "stream",
     "text": [
      "Epoch 99/100, Train Loss: 550.5661, Val Loss: 1107.5980\n"
     ]
    },
    {
     "name": "stderr",
     "output_type": "stream",
     "text": [
      "Epoch 100/100: 389it [01:12,  5.33it/s]\n"
     ]
    },
    {
     "name": "stdout",
     "output_type": "stream",
     "text": [
      "Epoch 100/100, Train Loss: 531.9821, Val Loss: 1009.0650\n"
     ]
    }
   ],
   "source": [
    "model_functions = {\n",
    "    'CNN_LSTM': CNN_LSTM,\n",
    "    'SepCNN_LSTM': SepCNN_LSTM,\n",
    "    'ConvGRU_LSTM': ConvGRU_LSTM,\n",
    "}\n",
    "\n",
    "\n",
    "epochs = 100\n",
    "\n",
    "for model_name, model_function in model_functions.items():\n",
    "    model = model_function(dimensions=[38, 1, 128, 9])\n",
    "    model.to('cuda')\n",
    "    optimizer = torch.optim.Adam(model.parameters())\n",
    "    criterion = nn.MSELoss()\n",
    "\n",
    "    best_loss = float('inf')\n",
    "\n",
    "    for epoch in range(epochs):\n",
    "        model.train()\n",
    "        train_losses = []\n",
    "        for batch_data, batch_labels in tqdm.tqdm(training_generator, desc=f\"Epoch {epoch+1}/{epochs}\"):\n",
    "            if batch_data is None:\n",
    "                break\n",
    "\n",
    "            optimizer.zero_grad()\n",
    "            outputs = model(batch_data)\n",
    "            loss = criterion(outputs, batch_labels.unsqueeze(1))\n",
    "            loss.backward()\n",
    "            optimizer.step()\n",
    "            train_losses.append(loss.item())\n",
    "\n",
    "        model.eval()\n",
    "        val_losses = []\n",
    "        \n",
    "        with torch.no_grad():\n",
    "            for val_data, val_labels in validation_generator:\n",
    "                if val_data is None:\n",
    "                    break\n",
    "                val_outputs = model(val_data)\n",
    "                val_loss = criterion(val_outputs, val_labels.unsqueeze(1))\n",
    "                val_losses.append(val_loss.item())\n",
    "\n",
    "        current_loss = np.mean(val_losses)\n",
    "        if current_loss < best_loss:\n",
    "            torch.save(model, f'{model_name}_best.pt')\n",
    "            best_loss = current_loss\n",
    "            \n",
    "        print(f\"Epoch {epoch+1}/{epochs}, Train Loss: {np.mean(train_losses):.4f}, Val Loss: {current_loss:.4f}\")"
   ]
  },
  {
   "cell_type": "code",
   "execution_count": 10,
   "metadata": {},
   "outputs": [
    {
     "name": "stderr",
     "output_type": "stream",
     "text": [
      "/home/kaywee/Documents/wee's things/cds-corn-prediction/.venv/lib/python3.10/site-packages/torch/nn/modules/conv.py:456: UserWarning: Using padding='same' with even kernel lengths and odd dilation may require a zero-padded copy of the input be created (Triggered internally at ../aten/src/ATen/native/Convolution.cpp:1040.)\n",
      "  return F.conv2d(input, weight, bias, self.stride,\n"
     ]
    },
    {
     "ename": "OutOfMemoryError",
     "evalue": "CUDA out of memory. Tried to allocate 13.50 GiB. GPU 0 has a total capacity of 10.75 GiB of which 8.64 GiB is free. Including non-PyTorch memory, this process has 1.30 GiB memory in use. Of the allocated memory 1.13 GiB is allocated by PyTorch, and 1.49 MiB is reserved by PyTorch but unallocated. If reserved but unallocated memory is large try setting PYTORCH_CUDA_ALLOC_CONF=expandable_segments:True to avoid fragmentation.  See documentation for Memory Management  (https://pytorch.org/docs/stable/notes/cuda.html#environment-variables)",
     "output_type": "error",
     "traceback": [
      "\u001b[0;31m---------------------------------------------------------------------------\u001b[0m",
      "\u001b[0;31mOutOfMemoryError\u001b[0m                          Traceback (most recent call last)",
      "Cell \u001b[0;32mIn[10], line 7\u001b[0m\n\u001b[1;32m      4\u001b[0m X_test, y_test \u001b[38;5;241m=\u001b[39m \u001b[38;5;28mnext\u001b[39m(test_gen)\n\u001b[1;32m      6\u001b[0m trained_model\u001b[38;5;241m.\u001b[39meval()\n\u001b[0;32m----> 7\u001b[0m res \u001b[38;5;241m=\u001b[39m \u001b[43mtrained_model\u001b[49m\u001b[43m(\u001b[49m\u001b[43mX_test\u001b[49m\u001b[43m)\u001b[49m\n\u001b[1;32m      8\u001b[0m target \u001b[38;5;241m=\u001b[39m y_test\n\u001b[1;32m      9\u001b[0m \u001b[38;5;28mprint\u001b[39m(res, target)\n",
      "File \u001b[0;32m~/Documents/wee's things/cds-corn-prediction/.venv/lib/python3.10/site-packages/torch/nn/modules/module.py:1511\u001b[0m, in \u001b[0;36mModule._wrapped_call_impl\u001b[0;34m(self, *args, **kwargs)\u001b[0m\n\u001b[1;32m   1509\u001b[0m     \u001b[38;5;28;01mreturn\u001b[39;00m \u001b[38;5;28mself\u001b[39m\u001b[38;5;241m.\u001b[39m_compiled_call_impl(\u001b[38;5;241m*\u001b[39margs, \u001b[38;5;241m*\u001b[39m\u001b[38;5;241m*\u001b[39mkwargs)  \u001b[38;5;66;03m# type: ignore[misc]\u001b[39;00m\n\u001b[1;32m   1510\u001b[0m \u001b[38;5;28;01melse\u001b[39;00m:\n\u001b[0;32m-> 1511\u001b[0m     \u001b[38;5;28;01mreturn\u001b[39;00m \u001b[38;5;28;43mself\u001b[39;49m\u001b[38;5;241;43m.\u001b[39;49m\u001b[43m_call_impl\u001b[49m\u001b[43m(\u001b[49m\u001b[38;5;241;43m*\u001b[39;49m\u001b[43margs\u001b[49m\u001b[43m,\u001b[49m\u001b[43m \u001b[49m\u001b[38;5;241;43m*\u001b[39;49m\u001b[38;5;241;43m*\u001b[39;49m\u001b[43mkwargs\u001b[49m\u001b[43m)\u001b[49m\n",
      "File \u001b[0;32m~/Documents/wee's things/cds-corn-prediction/.venv/lib/python3.10/site-packages/torch/nn/modules/module.py:1520\u001b[0m, in \u001b[0;36mModule._call_impl\u001b[0;34m(self, *args, **kwargs)\u001b[0m\n\u001b[1;32m   1515\u001b[0m \u001b[38;5;66;03m# If we don't have any hooks, we want to skip the rest of the logic in\u001b[39;00m\n\u001b[1;32m   1516\u001b[0m \u001b[38;5;66;03m# this function, and just call forward.\u001b[39;00m\n\u001b[1;32m   1517\u001b[0m \u001b[38;5;28;01mif\u001b[39;00m \u001b[38;5;129;01mnot\u001b[39;00m (\u001b[38;5;28mself\u001b[39m\u001b[38;5;241m.\u001b[39m_backward_hooks \u001b[38;5;129;01mor\u001b[39;00m \u001b[38;5;28mself\u001b[39m\u001b[38;5;241m.\u001b[39m_backward_pre_hooks \u001b[38;5;129;01mor\u001b[39;00m \u001b[38;5;28mself\u001b[39m\u001b[38;5;241m.\u001b[39m_forward_hooks \u001b[38;5;129;01mor\u001b[39;00m \u001b[38;5;28mself\u001b[39m\u001b[38;5;241m.\u001b[39m_forward_pre_hooks\n\u001b[1;32m   1518\u001b[0m         \u001b[38;5;129;01mor\u001b[39;00m _global_backward_pre_hooks \u001b[38;5;129;01mor\u001b[39;00m _global_backward_hooks\n\u001b[1;32m   1519\u001b[0m         \u001b[38;5;129;01mor\u001b[39;00m _global_forward_hooks \u001b[38;5;129;01mor\u001b[39;00m _global_forward_pre_hooks):\n\u001b[0;32m-> 1520\u001b[0m     \u001b[38;5;28;01mreturn\u001b[39;00m \u001b[43mforward_call\u001b[49m\u001b[43m(\u001b[49m\u001b[38;5;241;43m*\u001b[39;49m\u001b[43margs\u001b[49m\u001b[43m,\u001b[49m\u001b[43m \u001b[49m\u001b[38;5;241;43m*\u001b[39;49m\u001b[38;5;241;43m*\u001b[39;49m\u001b[43mkwargs\u001b[49m\u001b[43m)\u001b[49m\n\u001b[1;32m   1522\u001b[0m \u001b[38;5;28;01mtry\u001b[39;00m:\n\u001b[1;32m   1523\u001b[0m     result \u001b[38;5;241m=\u001b[39m \u001b[38;5;28;01mNone\u001b[39;00m\n",
      "File \u001b[0;32m~/Documents/wee's things/cds-corn-prediction/models.py:37\u001b[0m, in \u001b[0;36mCNN_LSTM.forward\u001b[0;34m(self, x)\u001b[0m\n\u001b[1;32m     34\u001b[0m batch_size, seq_len, channels, height, width \u001b[38;5;241m=\u001b[39m x\u001b[38;5;241m.\u001b[39msize()\n\u001b[1;32m     35\u001b[0m x \u001b[38;5;241m=\u001b[39m x\u001b[38;5;241m.\u001b[39mview(batch_size \u001b[38;5;241m*\u001b[39m seq_len, channels, height, width)\n\u001b[0;32m---> 37\u001b[0m x \u001b[38;5;241m=\u001b[39m \u001b[38;5;28;43mself\u001b[39;49m\u001b[38;5;241;43m.\u001b[39;49m\u001b[43mvision_model\u001b[49m\u001b[43m(\u001b[49m\u001b[43mx\u001b[49m\u001b[43m)\u001b[49m\n\u001b[1;32m     38\u001b[0m x \u001b[38;5;241m=\u001b[39m \u001b[38;5;28mself\u001b[39m\u001b[38;5;241m.\u001b[39mflatten(x)\n\u001b[1;32m     39\u001b[0m x \u001b[38;5;241m=\u001b[39m \u001b[38;5;28mself\u001b[39m\u001b[38;5;241m.\u001b[39mencoded_frame_sequence(x)\n",
      "File \u001b[0;32m~/Documents/wee's things/cds-corn-prediction/.venv/lib/python3.10/site-packages/torch/nn/modules/module.py:1511\u001b[0m, in \u001b[0;36mModule._wrapped_call_impl\u001b[0;34m(self, *args, **kwargs)\u001b[0m\n\u001b[1;32m   1509\u001b[0m     \u001b[38;5;28;01mreturn\u001b[39;00m \u001b[38;5;28mself\u001b[39m\u001b[38;5;241m.\u001b[39m_compiled_call_impl(\u001b[38;5;241m*\u001b[39margs, \u001b[38;5;241m*\u001b[39m\u001b[38;5;241m*\u001b[39mkwargs)  \u001b[38;5;66;03m# type: ignore[misc]\u001b[39;00m\n\u001b[1;32m   1510\u001b[0m \u001b[38;5;28;01melse\u001b[39;00m:\n\u001b[0;32m-> 1511\u001b[0m     \u001b[38;5;28;01mreturn\u001b[39;00m \u001b[38;5;28;43mself\u001b[39;49m\u001b[38;5;241;43m.\u001b[39;49m\u001b[43m_call_impl\u001b[49m\u001b[43m(\u001b[49m\u001b[38;5;241;43m*\u001b[39;49m\u001b[43margs\u001b[49m\u001b[43m,\u001b[49m\u001b[43m \u001b[49m\u001b[38;5;241;43m*\u001b[39;49m\u001b[38;5;241;43m*\u001b[39;49m\u001b[43mkwargs\u001b[49m\u001b[43m)\u001b[49m\n",
      "File \u001b[0;32m~/Documents/wee's things/cds-corn-prediction/.venv/lib/python3.10/site-packages/torch/nn/modules/module.py:1520\u001b[0m, in \u001b[0;36mModule._call_impl\u001b[0;34m(self, *args, **kwargs)\u001b[0m\n\u001b[1;32m   1515\u001b[0m \u001b[38;5;66;03m# If we don't have any hooks, we want to skip the rest of the logic in\u001b[39;00m\n\u001b[1;32m   1516\u001b[0m \u001b[38;5;66;03m# this function, and just call forward.\u001b[39;00m\n\u001b[1;32m   1517\u001b[0m \u001b[38;5;28;01mif\u001b[39;00m \u001b[38;5;129;01mnot\u001b[39;00m (\u001b[38;5;28mself\u001b[39m\u001b[38;5;241m.\u001b[39m_backward_hooks \u001b[38;5;129;01mor\u001b[39;00m \u001b[38;5;28mself\u001b[39m\u001b[38;5;241m.\u001b[39m_backward_pre_hooks \u001b[38;5;129;01mor\u001b[39;00m \u001b[38;5;28mself\u001b[39m\u001b[38;5;241m.\u001b[39m_forward_hooks \u001b[38;5;129;01mor\u001b[39;00m \u001b[38;5;28mself\u001b[39m\u001b[38;5;241m.\u001b[39m_forward_pre_hooks\n\u001b[1;32m   1518\u001b[0m         \u001b[38;5;129;01mor\u001b[39;00m _global_backward_pre_hooks \u001b[38;5;129;01mor\u001b[39;00m _global_backward_hooks\n\u001b[1;32m   1519\u001b[0m         \u001b[38;5;129;01mor\u001b[39;00m _global_forward_hooks \u001b[38;5;129;01mor\u001b[39;00m _global_forward_pre_hooks):\n\u001b[0;32m-> 1520\u001b[0m     \u001b[38;5;28;01mreturn\u001b[39;00m \u001b[43mforward_call\u001b[49m\u001b[43m(\u001b[49m\u001b[38;5;241;43m*\u001b[39;49m\u001b[43margs\u001b[49m\u001b[43m,\u001b[49m\u001b[43m \u001b[49m\u001b[38;5;241;43m*\u001b[39;49m\u001b[38;5;241;43m*\u001b[39;49m\u001b[43mkwargs\u001b[49m\u001b[43m)\u001b[49m\n\u001b[1;32m   1522\u001b[0m \u001b[38;5;28;01mtry\u001b[39;00m:\n\u001b[1;32m   1523\u001b[0m     result \u001b[38;5;241m=\u001b[39m \u001b[38;5;28;01mNone\u001b[39;00m\n",
      "File \u001b[0;32m~/Documents/wee's things/cds-corn-prediction/.venv/lib/python3.10/site-packages/torch/nn/modules/container.py:217\u001b[0m, in \u001b[0;36mSequential.forward\u001b[0;34m(self, input)\u001b[0m\n\u001b[1;32m    215\u001b[0m \u001b[38;5;28;01mdef\u001b[39;00m \u001b[38;5;21mforward\u001b[39m(\u001b[38;5;28mself\u001b[39m, \u001b[38;5;28minput\u001b[39m):\n\u001b[1;32m    216\u001b[0m     \u001b[38;5;28;01mfor\u001b[39;00m module \u001b[38;5;129;01min\u001b[39;00m \u001b[38;5;28mself\u001b[39m:\n\u001b[0;32m--> 217\u001b[0m         \u001b[38;5;28minput\u001b[39m \u001b[38;5;241m=\u001b[39m \u001b[43mmodule\u001b[49m\u001b[43m(\u001b[49m\u001b[38;5;28;43minput\u001b[39;49m\u001b[43m)\u001b[49m\n\u001b[1;32m    218\u001b[0m     \u001b[38;5;28;01mreturn\u001b[39;00m \u001b[38;5;28minput\u001b[39m\n",
      "File \u001b[0;32m~/Documents/wee's things/cds-corn-prediction/.venv/lib/python3.10/site-packages/torch/nn/modules/module.py:1511\u001b[0m, in \u001b[0;36mModule._wrapped_call_impl\u001b[0;34m(self, *args, **kwargs)\u001b[0m\n\u001b[1;32m   1509\u001b[0m     \u001b[38;5;28;01mreturn\u001b[39;00m \u001b[38;5;28mself\u001b[39m\u001b[38;5;241m.\u001b[39m_compiled_call_impl(\u001b[38;5;241m*\u001b[39margs, \u001b[38;5;241m*\u001b[39m\u001b[38;5;241m*\u001b[39mkwargs)  \u001b[38;5;66;03m# type: ignore[misc]\u001b[39;00m\n\u001b[1;32m   1510\u001b[0m \u001b[38;5;28;01melse\u001b[39;00m:\n\u001b[0;32m-> 1511\u001b[0m     \u001b[38;5;28;01mreturn\u001b[39;00m \u001b[38;5;28;43mself\u001b[39;49m\u001b[38;5;241;43m.\u001b[39;49m\u001b[43m_call_impl\u001b[49m\u001b[43m(\u001b[49m\u001b[38;5;241;43m*\u001b[39;49m\u001b[43margs\u001b[49m\u001b[43m,\u001b[49m\u001b[43m \u001b[49m\u001b[38;5;241;43m*\u001b[39;49m\u001b[38;5;241;43m*\u001b[39;49m\u001b[43mkwargs\u001b[49m\u001b[43m)\u001b[49m\n",
      "File \u001b[0;32m~/Documents/wee's things/cds-corn-prediction/.venv/lib/python3.10/site-packages/torch/nn/modules/module.py:1520\u001b[0m, in \u001b[0;36mModule._call_impl\u001b[0;34m(self, *args, **kwargs)\u001b[0m\n\u001b[1;32m   1515\u001b[0m \u001b[38;5;66;03m# If we don't have any hooks, we want to skip the rest of the logic in\u001b[39;00m\n\u001b[1;32m   1516\u001b[0m \u001b[38;5;66;03m# this function, and just call forward.\u001b[39;00m\n\u001b[1;32m   1517\u001b[0m \u001b[38;5;28;01mif\u001b[39;00m \u001b[38;5;129;01mnot\u001b[39;00m (\u001b[38;5;28mself\u001b[39m\u001b[38;5;241m.\u001b[39m_backward_hooks \u001b[38;5;129;01mor\u001b[39;00m \u001b[38;5;28mself\u001b[39m\u001b[38;5;241m.\u001b[39m_backward_pre_hooks \u001b[38;5;129;01mor\u001b[39;00m \u001b[38;5;28mself\u001b[39m\u001b[38;5;241m.\u001b[39m_forward_hooks \u001b[38;5;129;01mor\u001b[39;00m \u001b[38;5;28mself\u001b[39m\u001b[38;5;241m.\u001b[39m_forward_pre_hooks\n\u001b[1;32m   1518\u001b[0m         \u001b[38;5;129;01mor\u001b[39;00m _global_backward_pre_hooks \u001b[38;5;129;01mor\u001b[39;00m _global_backward_hooks\n\u001b[1;32m   1519\u001b[0m         \u001b[38;5;129;01mor\u001b[39;00m _global_forward_hooks \u001b[38;5;129;01mor\u001b[39;00m _global_forward_pre_hooks):\n\u001b[0;32m-> 1520\u001b[0m     \u001b[38;5;28;01mreturn\u001b[39;00m \u001b[43mforward_call\u001b[49m\u001b[43m(\u001b[49m\u001b[38;5;241;43m*\u001b[39;49m\u001b[43margs\u001b[49m\u001b[43m,\u001b[49m\u001b[43m \u001b[49m\u001b[38;5;241;43m*\u001b[39;49m\u001b[38;5;241;43m*\u001b[39;49m\u001b[43mkwargs\u001b[49m\u001b[43m)\u001b[49m\n\u001b[1;32m   1522\u001b[0m \u001b[38;5;28;01mtry\u001b[39;00m:\n\u001b[1;32m   1523\u001b[0m     result \u001b[38;5;241m=\u001b[39m \u001b[38;5;28;01mNone\u001b[39;00m\n",
      "File \u001b[0;32m~/Documents/wee's things/cds-corn-prediction/.venv/lib/python3.10/site-packages/torch/nn/modules/conv.py:460\u001b[0m, in \u001b[0;36mConv2d.forward\u001b[0;34m(self, input)\u001b[0m\n\u001b[1;32m    459\u001b[0m \u001b[38;5;28;01mdef\u001b[39;00m \u001b[38;5;21mforward\u001b[39m(\u001b[38;5;28mself\u001b[39m, \u001b[38;5;28minput\u001b[39m: Tensor) \u001b[38;5;241m-\u001b[39m\u001b[38;5;241m>\u001b[39m Tensor:\n\u001b[0;32m--> 460\u001b[0m     \u001b[38;5;28;01mreturn\u001b[39;00m \u001b[38;5;28;43mself\u001b[39;49m\u001b[38;5;241;43m.\u001b[39;49m\u001b[43m_conv_forward\u001b[49m\u001b[43m(\u001b[49m\u001b[38;5;28;43minput\u001b[39;49m\u001b[43m,\u001b[49m\u001b[43m \u001b[49m\u001b[38;5;28;43mself\u001b[39;49m\u001b[38;5;241;43m.\u001b[39;49m\u001b[43mweight\u001b[49m\u001b[43m,\u001b[49m\u001b[43m \u001b[49m\u001b[38;5;28;43mself\u001b[39;49m\u001b[38;5;241;43m.\u001b[39;49m\u001b[43mbias\u001b[49m\u001b[43m)\u001b[49m\n",
      "File \u001b[0;32m~/Documents/wee's things/cds-corn-prediction/.venv/lib/python3.10/site-packages/torch/nn/modules/conv.py:456\u001b[0m, in \u001b[0;36mConv2d._conv_forward\u001b[0;34m(self, input, weight, bias)\u001b[0m\n\u001b[1;32m    452\u001b[0m \u001b[38;5;28;01mif\u001b[39;00m \u001b[38;5;28mself\u001b[39m\u001b[38;5;241m.\u001b[39mpadding_mode \u001b[38;5;241m!=\u001b[39m \u001b[38;5;124m'\u001b[39m\u001b[38;5;124mzeros\u001b[39m\u001b[38;5;124m'\u001b[39m:\n\u001b[1;32m    453\u001b[0m     \u001b[38;5;28;01mreturn\u001b[39;00m F\u001b[38;5;241m.\u001b[39mconv2d(F\u001b[38;5;241m.\u001b[39mpad(\u001b[38;5;28minput\u001b[39m, \u001b[38;5;28mself\u001b[39m\u001b[38;5;241m.\u001b[39m_reversed_padding_repeated_twice, mode\u001b[38;5;241m=\u001b[39m\u001b[38;5;28mself\u001b[39m\u001b[38;5;241m.\u001b[39mpadding_mode),\n\u001b[1;32m    454\u001b[0m                     weight, bias, \u001b[38;5;28mself\u001b[39m\u001b[38;5;241m.\u001b[39mstride,\n\u001b[1;32m    455\u001b[0m                     _pair(\u001b[38;5;241m0\u001b[39m), \u001b[38;5;28mself\u001b[39m\u001b[38;5;241m.\u001b[39mdilation, \u001b[38;5;28mself\u001b[39m\u001b[38;5;241m.\u001b[39mgroups)\n\u001b[0;32m--> 456\u001b[0m \u001b[38;5;28;01mreturn\u001b[39;00m \u001b[43mF\u001b[49m\u001b[38;5;241;43m.\u001b[39;49m\u001b[43mconv2d\u001b[49m\u001b[43m(\u001b[49m\u001b[38;5;28;43minput\u001b[39;49m\u001b[43m,\u001b[49m\u001b[43m \u001b[49m\u001b[43mweight\u001b[49m\u001b[43m,\u001b[49m\u001b[43m \u001b[49m\u001b[43mbias\u001b[49m\u001b[43m,\u001b[49m\u001b[43m \u001b[49m\u001b[38;5;28;43mself\u001b[39;49m\u001b[38;5;241;43m.\u001b[39;49m\u001b[43mstride\u001b[49m\u001b[43m,\u001b[49m\n\u001b[1;32m    457\u001b[0m \u001b[43m                \u001b[49m\u001b[38;5;28;43mself\u001b[39;49m\u001b[38;5;241;43m.\u001b[39;49m\u001b[43mpadding\u001b[49m\u001b[43m,\u001b[49m\u001b[43m \u001b[49m\u001b[38;5;28;43mself\u001b[39;49m\u001b[38;5;241;43m.\u001b[39;49m\u001b[43mdilation\u001b[49m\u001b[43m,\u001b[49m\u001b[43m \u001b[49m\u001b[38;5;28;43mself\u001b[39;49m\u001b[38;5;241;43m.\u001b[39;49m\u001b[43mgroups\u001b[49m\u001b[43m)\u001b[49m\n",
      "\u001b[0;31mOutOfMemoryError\u001b[0m: CUDA out of memory. Tried to allocate 13.50 GiB. GPU 0 has a total capacity of 10.75 GiB of which 8.64 GiB is free. Including non-PyTorch memory, this process has 1.30 GiB memory in use. Of the allocated memory 1.13 GiB is allocated by PyTorch, and 1.49 MiB is reserved by PyTorch but unallocated. If reserved but unallocated memory is large try setting PYTORCH_CUDA_ALLOC_CONF=expandable_segments:True to avoid fragmentation.  See documentation for Memory Management  (https://pytorch.org/docs/stable/notes/cuda.html#environment-variables)"
     ]
    }
   ],
   "source": [
    "trained_model = torch.load('./models/CNN_LSTM_best.pt')\n",
    "\n",
    "trained_model.eval()\n",
    "res = trained_model(torch.tensor(np.array([sample_data]), dtype=torch.float32, device='cuda'))\n",
    "target = yields['train']['2018_13_155']\n",
    "print(res, target)"
   ]
  },
  {
   "cell_type": "code",
   "execution_count": null,
   "metadata": {},
   "outputs": [],
   "source": [
    "trained_model = torch.load('./models/CNN_LSTM_best.pt')\n",
    "\n",
    "test_gen = generator(list(yields['validation'].keys()), yields['validation'], len(yields['validation']))\n",
    "X_test, y_test = next(test_gen)\n"
   ]
  },
  {
   "cell_type": "code",
   "execution_count": 11,
   "metadata": {},
   "outputs": [],
   "source": [
    "lst = list(yields['train'].keys())\n",
    "data_years = {\n",
    "    '2018': [],\n",
    "    '2019': [],\n",
    "    '2020': [],\n",
    "    '2021': [],\n",
    "    '2022': [],\n",
    "    '2023': [],\n",
    "}\n",
    "\n",
    "for data in lst:\n",
    "    year = data.split('_')[0]\n",
    "    data_years[year].append(data)"
   ]
  },
  {
   "cell_type": "code",
   "execution_count": 32,
   "metadata": {},
   "outputs": [],
   "source": [
    "lst = list(yields['validation'].keys())\n",
    "\n",
    "for data in lst:\n",
    "    year = data.split('_')[0]\n",
    "    data_years[year].append(data)"
   ]
  },
  {
   "cell_type": "code",
   "execution_count": 33,
   "metadata": {},
   "outputs": [
    {
     "data": {
      "text/plain": [
       "['2021_1_47',\n",
       " '2021_1_51',\n",
       " '2021_1_105',\n",
       " '2021_1_3',\n",
       " '2021_1_99',\n",
       " '2021_1_131',\n",
       " '2021_1_9',\n",
       " '2021_1_15',\n",
       " '2021_1_19',\n",
       " '2021_1_43',\n",
       " '2021_1_49',\n",
       " '2021_1_71',\n",
       " '2021_1_95',\n",
       " '2021_1_33',\n",
       " '2021_1_77',\n",
       " '2021_1_79',\n",
       " '2021_1_83',\n",
       " '2021_1_89',\n",
       " '2021_1_93',\n",
       " '2021_1_21',\n",
       " '2021_1_57',\n",
       " '2021_1_111',\n",
       " '2021_1_125',\n",
       " '2021_1_127',\n",
       " '2021_1_5',\n",
       " '2021_1_39',\n",
       " '2021_1_45',\n",
       " '2021_1_67',\n",
       " '2021_5_29',\n",
       " '2021_5_1',\n",
       " '2021_5_35',\n",
       " '2021_5_37',\n",
       " '2021_5_77',\n",
       " '2021_5_85',\n",
       " '2021_5_95',\n",
       " '2021_5_107',\n",
       " '2021_5_117',\n",
       " '2021_5_123',\n",
       " '2021_5_147',\n",
       " '2021_5_67',\n",
       " '2021_5_111',\n",
       " '2021_5_145',\n",
       " '2021_5_3',\n",
       " '2021_5_17',\n",
       " '2021_5_41',\n",
       " '2021_5_43',\n",
       " '2021_5_69',\n",
       " '2021_5_79',\n",
       " '2021_5_73',\n",
       " '2021_5_71',\n",
       " '2021_5_83',\n",
       " '2021_5_149',\n",
       " '2021_6_11',\n",
       " '2021_6_67',\n",
       " '2021_6_101',\n",
       " '2021_6_29',\n",
       " '2021_6_77',\n",
       " '2021_8_1',\n",
       " '2021_8_17',\n",
       " '2021_8_39',\n",
       " '2021_8_61',\n",
       " '2021_8_63',\n",
       " '2021_8_73',\n",
       " '2021_8_95',\n",
       " '2021_8_121',\n",
       " '2021_8_125',\n",
       " '2021_8_75',\n",
       " '2021_8_87',\n",
       " '2021_8_123',\n",
       " '2021_8_11',\n",
       " '2021_8_101',\n",
       " '2021_8_29',\n",
       " '2021_8_77',\n",
       " '2021_10_1',\n",
       " '2021_10_3',\n",
       " '2021_10_5',\n",
       " '2021_13_23',\n",
       " '2021_13_91',\n",
       " '2021_13_167',\n",
       " '2021_13_175',\n",
       " '2021_13_303',\n",
       " '2021_13_31',\n",
       " '2021_13_33',\n",
       " '2021_13_43',\n",
       " '2021_13_107',\n",
       " '2021_13_163',\n",
       " '2021_13_251',\n",
       " '2021_13_291',\n",
       " '2021_13_11',\n",
       " '2021_13_119',\n",
       " '2021_13_147',\n",
       " '2021_13_15',\n",
       " '2021_13_55',\n",
       " '2021_13_129',\n",
       " '2021_13_313',\n",
       " '2021_13_3',\n",
       " '2021_13_17',\n",
       " '2021_13_19',\n",
       " '2021_13_69',\n",
       " '2021_13_71',\n",
       " '2021_13_155',\n",
       " '2021_13_185',\n",
       " '2021_13_277',\n",
       " '2021_13_315',\n",
       " '2021_13_321',\n",
       " '2021_13_25',\n",
       " '2021_13_229',\n",
       " '2021_13_267',\n",
       " '2021_13_279',\n",
       " '2021_13_299',\n",
       " '2021_13_7',\n",
       " '2021_13_37',\n",
       " '2021_13_87',\n",
       " '2021_13_99',\n",
       " '2021_13_177',\n",
       " '2021_13_201',\n",
       " '2021_13_205',\n",
       " '2021_13_243',\n",
       " '2021_13_253',\n",
       " '2021_13_261',\n",
       " '2021_13_273',\n",
       " '2021_13_275',\n",
       " '2021_13_45',\n",
       " '2021_13_193',\n",
       " '2021_16_47',\n",
       " '2021_16_63',\n",
       " '2021_16_83',\n",
       " '2021_16_1',\n",
       " '2021_16_27',\n",
       " '2021_16_39',\n",
       " '2021_16_45',\n",
       " '2021_16_73',\n",
       " '2021_16_75',\n",
       " '2021_17_39',\n",
       " '2021_17_125',\n",
       " '2021_17_129',\n",
       " '2021_17_143',\n",
       " '2021_17_175',\n",
       " '2021_17_203',\n",
       " '2021_17_23',\n",
       " '2021_17_25',\n",
       " '2021_17_29',\n",
       " '2021_17_33',\n",
       " '2021_17_45',\n",
       " '2021_17_49',\n",
       " '2021_17_51',\n",
       " '2021_17_101',\n",
       " '2021_17_19',\n",
       " '2021_17_53',\n",
       " '2021_17_75',\n",
       " '2021_17_91',\n",
       " '2021_17_7',\n",
       " '2021_17_31',\n",
       " '2021_17_37',\n",
       " '2021_17_63',\n",
       " '2021_17_89',\n",
       " '2021_17_93',\n",
       " '2021_17_97',\n",
       " '2021_17_11',\n",
       " '2021_17_15',\n",
       " '2021_17_73',\n",
       " '2021_17_85',\n",
       " '2021_17_103',\n",
       " '2021_17_141',\n",
       " '2021_17_195',\n",
       " '2021_17_201',\n",
       " '2021_17_47',\n",
       " '2021_17_55',\n",
       " '2021_17_59',\n",
       " '2021_17_69',\n",
       " '2021_17_81',\n",
       " '2021_17_27',\n",
       " '2021_17_77',\n",
       " '2021_17_133',\n",
       " '2021_17_163',\n",
       " '2021_17_5',\n",
       " '2021_17_13',\n",
       " '2021_17_17',\n",
       " '2021_17_21',\n",
       " '2021_17_61',\n",
       " '2021_17_117',\n",
       " '2021_17_119',\n",
       " '2021_17_167',\n",
       " '2021_17_171',\n",
       " '2021_17_9',\n",
       " '2021_17_57',\n",
       " '2021_17_67',\n",
       " '2021_17_95',\n",
       " '2021_17_169',\n",
       " '2021_18_5',\n",
       " '2021_18_11',\n",
       " '2021_18_23',\n",
       " '2021_18_31',\n",
       " '2021_18_53',\n",
       " '2021_18_57',\n",
       " '2021_18_59',\n",
       " '2021_18_63',\n",
       " '2021_18_67',\n",
       " '2021_18_81',\n",
       " '2021_18_95',\n",
       " '2021_18_97',\n",
       " '2021_18_109',\n",
       " '2021_18_145',\n",
       " '2021_18_9',\n",
       " '2021_18_35',\n",
       " '2021_18_41',\n",
       " '2021_18_65',\n",
       " '2021_18_39',\n",
       " '2021_18_49',\n",
       " '2021_18_85',\n",
       " '2021_18_99',\n",
       " '2021_18_3',\n",
       " '2021_18_33',\n",
       " '2021_18_69',\n",
       " '2021_18_87',\n",
       " '2021_18_7',\n",
       " '2021_18_91',\n",
       " '2021_18_13',\n",
       " '2021_18_43',\n",
       " '2021_18_61',\n",
       " '2021_18_93',\n",
       " '2021_18_117',\n",
       " '2021_18_19',\n",
       " '2021_18_29',\n",
       " '2021_18_47',\n",
       " '2021_18_77',\n",
       " '2021_18_79',\n",
       " '2021_18_27',\n",
       " '2021_18_37',\n",
       " '2021_18_55',\n",
       " '2021_18_83',\n",
       " '2021_18_153',\n",
       " '2021_18_21',\n",
       " '2021_18_119',\n",
       " '2021_18_133',\n",
       " '2021_18_165',\n",
       " '2021_18_167',\n",
       " '2021_19_15',\n",
       " '2021_19_49',\n",
       " '2021_19_75',\n",
       " '2021_19_83',\n",
       " '2021_19_99',\n",
       " '2021_19_127',\n",
       " '2021_19_187',\n",
       " '2021_19_11',\n",
       " '2021_19_31',\n",
       " '2021_19_45',\n",
       " '2021_19_97',\n",
       " '2021_19_23',\n",
       " '2021_19_33',\n",
       " '2021_19_67',\n",
       " '2021_19_69',\n",
       " '2021_19_81',\n",
       " '2021_19_91',\n",
       " '2021_19_109',\n",
       " '2021_19_131',\n",
       " '2021_19_189',\n",
       " '2021_19_195',\n",
       " '2021_19_197',\n",
       " '2021_19_5',\n",
       " '2021_19_13',\n",
       " '2021_19_17',\n",
       " '2021_19_19',\n",
       " '2021_19_37',\n",
       " '2021_19_43',\n",
       " '2021_19_55',\n",
       " '2021_19_61',\n",
       " '2021_19_65',\n",
       " '2021_19_89',\n",
       " '2021_19_21',\n",
       " '2021_19_41',\n",
       " '2021_19_59',\n",
       " '2021_19_63',\n",
       " '2021_19_119',\n",
       " '2021_19_141',\n",
       " '2021_19_143',\n",
       " '2021_19_147',\n",
       " '2021_19_149',\n",
       " '2021_19_151',\n",
       " '2021_19_167',\n",
       " '2021_19_7',\n",
       " '2021_19_125',\n",
       " '2021_19_51',\n",
       " '2021_19_87',\n",
       " '2021_19_29',\n",
       " '2021_19_71',\n",
       " '2021_19_129',\n",
       " '2021_19_155',\n",
       " '2021_19_173',\n",
       " '2021_19_9',\n",
       " '2021_19_25',\n",
       " '2021_19_27',\n",
       " '2021_19_47',\n",
       " '2021_19_73',\n",
       " '2021_19_77',\n",
       " '2021_19_93',\n",
       " '2021_19_133',\n",
       " '2021_19_161',\n",
       " '2021_19_193',\n",
       " '2021_20_9',\n",
       " '2021_20_41',\n",
       " '2021_20_53',\n",
       " '2021_20_115',\n",
       " '2021_20_113',\n",
       " '2021_20_169',\n",
       " '2021_20_3',\n",
       " '2021_20_17',\n",
       " '2021_20_31',\n",
       " '2021_20_45',\n",
       " '2021_20_61',\n",
       " '2021_20_111',\n",
       " '2021_20_127',\n",
       " '2021_20_177',\n",
       " '2021_20_197',\n",
       " '2021_20_29',\n",
       " '2021_20_123',\n",
       " '2021_20_141',\n",
       " '2021_20_147',\n",
       " '2021_20_157',\n",
       " '2021_20_201',\n",
       " '2021_20_5',\n",
       " '2021_20_13',\n",
       " '2021_20_43',\n",
       " '2021_20_85',\n",
       " '2021_20_87',\n",
       " '2021_20_103',\n",
       " '2021_20_131',\n",
       " '2021_20_149',\n",
       " '2021_20_161',\n",
       " '2021_20_23',\n",
       " '2021_20_65',\n",
       " '2021_20_137',\n",
       " '2021_20_153',\n",
       " '2021_20_179',\n",
       " '2021_20_181',\n",
       " '2021_20_7',\n",
       " '2021_20_47',\n",
       " '2021_20_79',\n",
       " '2021_20_95',\n",
       " '2021_20_97',\n",
       " '2021_20_145',\n",
       " '2021_20_151',\n",
       " '2021_20_155',\n",
       " '2021_20_185',\n",
       " '2021_20_191',\n",
       " '2021_20_1',\n",
       " '2021_20_11',\n",
       " '2021_20_15',\n",
       " '2021_20_19',\n",
       " '2021_20_21',\n",
       " '2021_20_35',\n",
       " '2021_20_37',\n",
       " '2021_20_99',\n",
       " '2021_20_133',\n",
       " '2021_20_205',\n",
       " '2021_20_207',\n",
       " '2021_20_57',\n",
       " '2021_20_67',\n",
       " '2021_20_69',\n",
       " '2021_20_81',\n",
       " '2021_20_119',\n",
       " '2021_20_129',\n",
       " '2021_20_175',\n",
       " '2021_20_189',\n",
       " '2021_20_63',\n",
       " '2021_20_71',\n",
       " '2021_20_101',\n",
       " '2021_20_109',\n",
       " '2021_20_135',\n",
       " '2021_20_195',\n",
       " '2021_20_203',\n",
       " '2021_21_5',\n",
       " '2021_21_11',\n",
       " '2021_21_17',\n",
       " '2021_21_21',\n",
       " '2021_21_49',\n",
       " '2021_21_67',\n",
       " '2021_21_69',\n",
       " '2021_21_73',\n",
       " '2021_21_79',\n",
       " '2021_21_97',\n",
       " '2021_21_113',\n",
       " '2021_21_137',\n",
       " '2021_21_151',\n",
       " '2021_21_167',\n",
       " '2021_21_173',\n",
       " '2021_21_209',\n",
       " '2021_21_211',\n",
       " '2021_21_229',\n",
       " '2021_21_239',\n",
       " '2021_21_1',\n",
       " '2021_21_3',\n",
       " '2021_21_9',\n",
       " '2021_21_27',\n",
       " '2021_21_29',\n",
       " '2021_21_31',\n",
       " '2021_21_45',\n",
       " '2021_21_53',\n",
       " '2021_21_57',\n",
       " '2021_21_61',\n",
       " '2021_21_85',\n",
       " '2021_21_87',\n",
       " '2021_21_93',\n",
       " '2021_21_99',\n",
       " '2021_21_123',\n",
       " '2021_21_155',\n",
       " '2021_21_65',\n",
       " '2021_21_89',\n",
       " '2021_21_135',\n",
       " '2021_21_199',\n",
       " '2021_21_205',\n",
       " '2021_21_231',\n",
       " '2021_21_33',\n",
       " '2021_21_47',\n",
       " '2021_21_55',\n",
       " '2021_21_59',\n",
       " '2021_21_91',\n",
       " '2021_21_15',\n",
       " '2021_21_23',\n",
       " '2021_21_41',\n",
       " '2021_21_81',\n",
       " '2021_21_185',\n",
       " '2021_21_7',\n",
       " '2021_21_35',\n",
       " '2021_21_39',\n",
       " '2021_21_75',\n",
       " '2021_21_139',\n",
       " '2021_21_221',\n",
       " '2021_22_9',\n",
       " '2021_22_25',\n",
       " '2021_22_29',\n",
       " '2021_22_43',\n",
       " '2021_22_77',\n",
       " '2021_22_79',\n",
       " '2021_22_97',\n",
       " '2021_22_117',\n",
       " '2021_22_73',\n",
       " '2021_22_35',\n",
       " '2021_22_41',\n",
       " '2021_22_65',\n",
       " '2021_22_67',\n",
       " '2021_22_83',\n",
       " '2021_22_107',\n",
       " '2021_22_123',\n",
       " '2021_22_15',\n",
       " '2021_22_17',\n",
       " '2021_22_81',\n",
       " '2021_24_19',\n",
       " '2021_24_39',\n",
       " '2021_24_45',\n",
       " '2021_24_47',\n",
       " '2021_24_13',\n",
       " '2021_24_21',\n",
       " '2021_24_25',\n",
       " '2021_24_31',\n",
       " '2021_24_43',\n",
       " '2021_24_3',\n",
       " '2021_24_9',\n",
       " '2021_24_17',\n",
       " '2021_24_37',\n",
       " '2021_24_11',\n",
       " '2021_24_15',\n",
       " '2021_24_29',\n",
       " '2021_24_41',\n",
       " '2021_24_23',\n",
       " '2021_26_57',\n",
       " '2021_26_73',\n",
       " '2021_26_107',\n",
       " '2021_26_117',\n",
       " '2021_26_11',\n",
       " '2021_26_17',\n",
       " '2021_26_63',\n",
       " '2021_26_151',\n",
       " '2021_26_7',\n",
       " '2021_26_69',\n",
       " '2021_26_137',\n",
       " '2021_26_141',\n",
       " '2021_26_19',\n",
       " '2021_26_29',\n",
       " '2021_26_47',\n",
       " '2021_26_55',\n",
       " '2021_26_79',\n",
       " '2021_26_89',\n",
       " '2021_26_101',\n",
       " '2021_26_165',\n",
       " '2021_26_15',\n",
       " '2021_26_25',\n",
       " '2021_26_37',\n",
       " '2021_26_45',\n",
       " '2021_26_59',\n",
       " '2021_26_65',\n",
       " '2021_26_67',\n",
       " '2021_26_75',\n",
       " '2021_26_49',\n",
       " '2021_26_87',\n",
       " '2021_26_91',\n",
       " '2021_26_93',\n",
       " '2021_26_99',\n",
       " '2021_26_147',\n",
       " '2021_26_5',\n",
       " '2021_26_21',\n",
       " '2021_26_27',\n",
       " '2021_26_77',\n",
       " '2021_26_81',\n",
       " '2021_26_139',\n",
       " '2021_26_159',\n",
       " '2021_26_41',\n",
       " '2021_26_43',\n",
       " '2021_26_85',\n",
       " '2021_26_121',\n",
       " '2021_26_123',\n",
       " '2021_26_127',\n",
       " '2021_27_9',\n",
       " '2021_27_19',\n",
       " '2021_27_85',\n",
       " '2021_27_93',\n",
       " '2021_27_97',\n",
       " '2021_27_139',\n",
       " '2021_27_143',\n",
       " '2021_27_145',\n",
       " '2021_27_153',\n",
       " '2021_27_159',\n",
       " '2021_27_1',\n",
       " '2021_27_3',\n",
       " '2021_27_25',\n",
       " '2021_27_35',\n",
       " '2021_27_53',\n",
       " '2021_27_59',\n",
       " '2021_27_65',\n",
       " '2021_27_95',\n",
       " '2021_27_163',\n",
       " '2021_27_7',\n",
       " '2021_27_57',\n",
       " '2021_27_61',\n",
       " '2021_27_5',\n",
       " '2021_27_27',\n",
       " '2021_27_29',\n",
       " '2021_27_87',\n",
       " '2021_27_89',\n",
       " '2021_27_107',\n",
       " '2021_27_119',\n",
       " '2021_27_125',\n",
       " '2021_27_135',\n",
       " '2021_27_13',\n",
       " '2021_27_15',\n",
       " '2021_27_43',\n",
       " '2021_27_47',\n",
       " '2021_27_79',\n",
       " '2021_27_91',\n",
       " '2021_27_103',\n",
       " '2021_27_131',\n",
       " '2021_27_161',\n",
       " '2021_27_165',\n",
       " '2021_27_37',\n",
       " '2021_27_45',\n",
       " '2021_27_49',\n",
       " '2021_27_55',\n",
       " '2021_27_109',\n",
       " '2021_27_157',\n",
       " '2021_27_33',\n",
       " '2021_27_63',\n",
       " '2021_27_81',\n",
       " '2021_27_83',\n",
       " '2021_27_101',\n",
       " '2021_27_105',\n",
       " '2021_27_117',\n",
       " '2021_27_127',\n",
       " '2021_27_133',\n",
       " '2021_27_11',\n",
       " '2021_27_23',\n",
       " '2021_27_41',\n",
       " '2021_27_51',\n",
       " '2021_27_111',\n",
       " '2021_27_121',\n",
       " '2021_27_149',\n",
       " '2021_27_155',\n",
       " '2021_27_167',\n",
       " '2021_28_15',\n",
       " '2021_28_51',\n",
       " '2021_28_89',\n",
       " '2021_28_97',\n",
       " '2021_28_155',\n",
       " '2021_28_17',\n",
       " '2021_28_87',\n",
       " '2021_28_95',\n",
       " '2021_28_103',\n",
       " '2021_28_53',\n",
       " '2021_28_55',\n",
       " '2021_28_83',\n",
       " '2021_28_125',\n",
       " '2021_28_133',\n",
       " '2021_28_151',\n",
       " '2021_28_163',\n",
       " '2021_28_13',\n",
       " '2021_28_33',\n",
       " '2021_28_43',\n",
       " '2021_28_107',\n",
       " '2021_28_137',\n",
       " '2021_28_161',\n",
       " '2021_28_57',\n",
       " '2021_28_81',\n",
       " '2021_28_117',\n",
       " '2021_28_139',\n",
       " '2021_28_145',\n",
       " '2021_28_147',\n",
       " '2021_28_39',\n",
       " '2021_28_109',\n",
       " '2021_28_21',\n",
       " '2021_28_49',\n",
       " '2021_28_11',\n",
       " '2021_28_27',\n",
       " '2021_28_119',\n",
       " '2021_28_135',\n",
       " '2021_29_19',\n",
       " '2021_29_51',\n",
       " '2021_29_53',\n",
       " '2021_29_59',\n",
       " '2021_29_85',\n",
       " '2021_29_89',\n",
       " '2021_29_105',\n",
       " '2021_29_125',\n",
       " '2021_29_131',\n",
       " '2021_29_135',\n",
       " '2021_29_141',\n",
       " '2021_29_151',\n",
       " '2021_29_71',\n",
       " '2021_29_73',\n",
       " '2021_29_99',\n",
       " '2021_29_113',\n",
       " '2021_29_139',\n",
       " '2021_29_183',\n",
       " '2021_29_187',\n",
       " '2021_29_189',\n",
       " '2021_29_186',\n",
       " '2021_29_219',\n",
       " '2021_29_1',\n",
       " '2021_29_79',\n",
       " '2021_29_175',\n",
       " '2021_29_127',\n",
       " '2021_29_137',\n",
       " '2021_29_173',\n",
       " '2021_29_205',\n",
       " '2021_29_5',\n",
       " '2021_29_21',\n",
       " '2021_29_25',\n",
       " '2021_29_47',\n",
       " '2021_29_49',\n",
       " '2021_29_61',\n",
       " '2021_29_63',\n",
       " '2021_29_81',\n",
       " '2021_29_227',\n",
       " '2021_29_17',\n",
       " '2021_29_23',\n",
       " '2021_29_31',\n",
       " '2021_29_69',\n",
       " '2021_29_155',\n",
       " '2021_29_201',\n",
       " '2021_29_207',\n",
       " '2021_29_9',\n",
       " '2021_29_11',\n",
       " '2021_29_57',\n",
       " '2021_29_77',\n",
       " '2021_29_109',\n",
       " '2021_29_145',\n",
       " '2021_29_13',\n",
       " '2021_29_37',\n",
       " '2021_29_39',\n",
       " '2021_29_83',\n",
       " '2021_29_185',\n",
       " '2021_31_77',\n",
       " '2021_31_93',\n",
       " '2021_31_163',\n",
       " '2021_31_175',\n",
       " '2021_31_23',\n",
       " '2021_31_37',\n",
       " '2021_31_53',\n",
       " '2021_31_55',\n",
       " '2021_31_109',\n",
       " '2021_31_125',\n",
       " '2021_31_141',\n",
       " '2021_31_153',\n",
       " '2021_31_159',\n",
       " '2021_31_177',\n",
       " '2021_31_15',\n",
       " '2021_31_17',\n",
       " '2021_31_31',\n",
       " '2021_31_71',\n",
       " '2021_31_103',\n",
       " '2021_31_149',\n",
       " '2021_31_21',\n",
       " '2021_31_27',\n",
       " '2021_31_39',\n",
       " '2021_31_43',\n",
       " '2021_31_107',\n",
       " '2021_31_119',\n",
       " '2021_31_139',\n",
       " '2021_31_173',\n",
       " '2021_31_179',\n",
       " '2021_31_13',\n",
       " '2021_31_49',\n",
       " '2021_31_123',\n",
       " '2021_31_157',\n",
       " '2021_31_161',\n",
       " '2021_31_165',\n",
       " '2021_31_1',\n",
       " '2021_31_61',\n",
       " '2021_31_65',\n",
       " '2021_31_73',\n",
       " '2021_31_83',\n",
       " '2021_31_137',\n",
       " '2021_31_67',\n",
       " '2021_31_127',\n",
       " '2021_31_131',\n",
       " '2021_31_133',\n",
       " '2021_31_147',\n",
       " '2021_31_169',\n",
       " '2021_31_29',\n",
       " '2021_31_57',\n",
       " '2021_31_63',\n",
       " '2021_31_85',\n",
       " '2021_31_101',\n",
       " '2021_31_111',\n",
       " '2021_31_135',\n",
       " '2021_31_145',\n",
       " '2021_36_11',\n",
       " '2021_36_17',\n",
       " '2021_36_23',\n",
       " '2021_36_43',\n",
       " '2021_36_53',\n",
       " '2021_36_65',\n",
       " '2021_36_67',\n",
       " '2021_36_75',\n",
       " '2021_36_77',\n",
       " '2021_36_1',\n",
       " '2021_36_35',\n",
       " '2021_36_57',\n",
       " '2021_36_83',\n",
       " '2021_36_91',\n",
       " '2021_36_95',\n",
       " '2021_36_115',\n",
       " '2021_36_103',\n",
       " '2021_36_33',\n",
       " '2021_36_45',\n",
       " '2021_36_49',\n",
       " '2021_36_89',\n",
       " '2021_36_21',\n",
       " '2021_36_25',\n",
       " '2021_36_27',\n",
       " '2021_36_71',\n",
       " '2021_36_111',\n",
       " '2021_36_7',\n",
       " '2021_36_15',\n",
       " '2021_36_97',\n",
       " '2021_36_107',\n",
       " '2021_36_109',\n",
       " '2021_36_9',\n",
       " '2021_36_13',\n",
       " '2021_36_101',\n",
       " '2021_36_29',\n",
       " '2021_36_37',\n",
       " '2021_36_51',\n",
       " '2021_36_55',\n",
       " '2021_36_63',\n",
       " '2021_36_69',\n",
       " '2021_36_73',\n",
       " '2021_36_99',\n",
       " '2021_36_117',\n",
       " '2021_36_121',\n",
       " '2021_36_123',\n",
       " '2021_37_13',\n",
       " '2021_37_49',\n",
       " '2021_37_79',\n",
       " '2021_37_95',\n",
       " '2021_37_101',\n",
       " '2021_37_103',\n",
       " '2021_37_137',\n",
       " '2021_37_147',\n",
       " '2021_37_191',\n",
       " '2021_37_195',\n",
       " '2021_37_3',\n",
       " '2021_37_35',\n",
       " '2021_37_37',\n",
       " '2021_37_57',\n",
       " '2021_37_59',\n",
       " '2021_37_151',\n",
       " '2021_37_159',\n",
       " '2021_37_183',\n",
       " '2021_37_15',\n",
       " '2021_37_29',\n",
       " '2021_37_41',\n",
       " '2021_37_53',\n",
       " '2021_37_65',\n",
       " '2021_37_73',\n",
       " '2021_37_83',\n",
       " '2021_37_91',\n",
       " '2021_37_117',\n",
       " '2021_37_127',\n",
       " '2021_37_131',\n",
       " '2021_37_139',\n",
       " '2021_37_143',\n",
       " '2021_37_177',\n",
       " '2021_37_187',\n",
       " '2021_37_9',\n",
       " '2021_37_27',\n",
       " '2021_37_171',\n",
       " '2021_37_193',\n",
       " '2021_37_1',\n",
       " '2021_37_33',\n",
       " '2021_37_63',\n",
       " '2021_37_69',\n",
       " '2021_37_77',\n",
       " '2021_37_81',\n",
       " '2021_37_135',\n",
       " '2021_37_145',\n",
       " '2021_37_157',\n",
       " '2021_37_169',\n",
       " '2021_37_185',\n",
       " '2021_37_17',\n",
       " '2021_37_19',\n",
       " '2021_37_47',\n",
       " '2021_37_51',\n",
       " '2021_37_61',\n",
       " '2021_37_85',\n",
       " '2021_37_133',\n",
       " '2021_37_141',\n",
       " '2021_37_155',\n",
       " '2021_37_163',\n",
       " '2021_37_165',\n",
       " '2021_37_7',\n",
       " '2021_37_25',\n",
       " '2021_37_45',\n",
       " '2021_37_109',\n",
       " '2021_37_125',\n",
       " '2021_37_167',\n",
       " '2021_37_179',\n",
       " '2021_37_23',\n",
       " '2021_37_39',\n",
       " '2021_37_87',\n",
       " '2021_37_99',\n",
       " '2021_37_161',\n",
       " '2021_37_175',\n",
       " '2021_38_27',\n",
       " '2021_38_31',\n",
       " '2021_38_43',\n",
       " '2021_38_93',\n",
       " '2021_38_103',\n",
       " '2021_38_3',\n",
       " '2021_38_17',\n",
       " '2021_38_39',\n",
       " '2021_38_91',\n",
       " '2021_38_97',\n",
       " '2021_38_5',\n",
       " '2021_38_9',\n",
       " '2021_38_49',\n",
       " '2021_38_69',\n",
       " '2021_38_79',\n",
       " '2021_38_19',\n",
       " '2021_38_35',\n",
       " '2021_38_63',\n",
       " '2021_38_67',\n",
       " '2021_38_71',\n",
       " '2021_38_95',\n",
       " '2021_38_99',\n",
       " '2021_38_23',\n",
       " '2021_38_75',\n",
       " '2021_38_101',\n",
       " '2021_38_105',\n",
       " '2021_38_15',\n",
       " '2021_38_29',\n",
       " '2021_38_37',\n",
       " '2021_38_21',\n",
       " '2021_38_45',\n",
       " '2021_38_47',\n",
       " '2021_38_51',\n",
       " '2021_38_73',\n",
       " '2021_38_77',\n",
       " '2021_38_81',\n",
       " '2021_38_1',\n",
       " '2021_38_7',\n",
       " '2021_38_33',\n",
       " '2021_38_41',\n",
       " '2021_38_87',\n",
       " '2021_38_89',\n",
       " '2021_38_25',\n",
       " '2021_38_55',\n",
       " '2021_38_57',\n",
       " '2021_39_41',\n",
       " '2021_39_47',\n",
       " '2021_39_83',\n",
       " '2021_39_89',\n",
       " '2021_39_97',\n",
       " '2021_39_129',\n",
       " '2021_39_13',\n",
       " '2021_39_19',\n",
       " '2021_39_31',\n",
       " '2021_39_67',\n",
       " '2021_39_75',\n",
       " '2021_39_81',\n",
       " '2021_39_157',\n",
       " '2021_39_5',\n",
       " '2021_39_33',\n",
       " '2021_39_43',\n",
       " '2021_39_77',\n",
       " '2021_39_93',\n",
       " '2021_39_123',\n",
       " '2021_39_175',\n",
       " '2021_39_7',\n",
       " '2021_39_29',\n",
       " '2021_39_55',\n",
       " '2021_39_99',\n",
       " '2021_39_103',\n",
       " '2021_39_133',\n",
       " '2021_39_169',\n",
       " '2021_39_3',\n",
       " '2021_39_39',\n",
       " '2021_39_51',\n",
       " '2021_39_69',\n",
       " '2021_39_95',\n",
       " '2021_39_15',\n",
       " '2021_39_53',\n",
       " '2021_39_71',\n",
       " '2021_39_79',\n",
       " '2021_39_87',\n",
       " '2021_39_145',\n",
       " '2021_39_9',\n",
       " '2021_39_59',\n",
       " '2021_39_111',\n",
       " '2021_39_121',\n",
       " '2021_39_17',\n",
       " '2021_39_25',\n",
       " '2021_39_27',\n",
       " '2021_39_57',\n",
       " '2021_39_61',\n",
       " '2021_39_11',\n",
       " '2021_39_21',\n",
       " '2021_39_23',\n",
       " '2021_39_37',\n",
       " '2021_39_65',\n",
       " '2021_39_91',\n",
       " '2021_40_37',\n",
       " '2021_40_51',\n",
       " '2021_40_107',\n",
       " '2021_40_109',\n",
       " '2021_40_63',\n",
       " '2021_40_3',\n",
       " '2021_40_47',\n",
       " '2021_40_53',\n",
       " '2021_40_71',\n",
       " '2021_40_93',\n",
       " '2021_40_103',\n",
       " '2021_40_35',\n",
       " '2021_40_41',\n",
       " '2021_40_97',\n",
       " '2021_40_115',\n",
       " '2021_40_131',\n",
       " '2021_40_7',\n",
       " '2021_40_139',\n",
       " '2021_40_49',\n",
       " '2021_40_23',\n",
       " '2021_40_79',\n",
       " '2021_40_15',\n",
       " '2021_40_75',\n",
       " '2021_40_141',\n",
       " '2021_42_13',\n",
       " '2021_42_21',\n",
       " '2021_42_27',\n",
       " '2021_42_33',\n",
       " '2021_42_37',\n",
       " '2021_42_43',\n",
       " '2021_42_61',\n",
       " '2021_42_67',\n",
       " '2021_42_87',\n",
       " '2021_42_93',\n",
       " '2021_42_97',\n",
       " '2021_42_99',\n",
       " '2021_42_109',\n",
       " '2021_42_77',\n",
       " '2021_42_79',\n",
       " '2021_42_89',\n",
       " '2021_42_95',\n",
       " '2021_42_107',\n",
       " '2021_42_23',\n",
       " '2021_42_35',\n",
       " '2021_42_47',\n",
       " '2021_42_81',\n",
       " '2021_42_117',\n",
       " '2021_42_131',\n",
       " '2021_42_39',\n",
       " '2021_42_49',\n",
       " '2021_42_53',\n",
       " '2021_42_85',\n",
       " '2021_42_121',\n",
       " '2021_42_1',\n",
       " '2021_42_9',\n",
       " '2021_42_41',\n",
       " '2021_42_55',\n",
       " '2021_42_57',\n",
       " '2021_42_133',\n",
       " '2021_42_11',\n",
       " '2021_42_17',\n",
       " ...]"
      ]
     },
     "execution_count": 33,
     "metadata": {},
     "output_type": "execute_result"
    }
   ],
   "source": [
    "data_years['2021']"
   ]
  },
  {
   "cell_type": "code",
   "execution_count": 24,
   "metadata": {},
   "outputs": [
    {
     "data": {
      "text/plain": [
       "tensor([194.3000, 206.4000, 203.7000, 153.3000, 173.6000, 173.7000, 134.9000,\n",
       "        211.9000, 201.0000,  90.7000, 189.6000, 139.7000, 117.9000, 175.0000,\n",
       "        150.9000, 139.6000], device='cuda:0')"
      ]
     },
     "execution_count": 24,
     "metadata": {},
     "output_type": "execute_result"
    }
   ],
   "source": [
    "yields"
   ]
  },
  {
   "cell_type": "code",
   "execution_count": 35,
   "metadata": {},
   "outputs": [
    {
     "data": {
      "text/plain": [
       "{'CNN_LSTM_2018': (55.1744379095129, 185129.81),\n",
       " 'CNN_LSTM_2019': (51.200570903412284, 179221.66),\n",
       " 'CNN_LSTM_2020': (45.80810324700324, 224479.62),\n",
       " 'CNN_LSTM_2021': (1330.1073707580567, 185865.28),\n",
       " 'SepCNN_LSTM_2018': (53.97626544333793, 189023.56),\n",
       " 'SepCNN_LSTM_2019': (52.94129967362913, 179029.14),\n",
       " 'SepCNN_LSTM_2020': (37.014527540940506, 229383.28),\n",
       " 'SepCNN_LSTM_2021': (1370.1449897766113, 192912.28),\n",
       " 'ConvGRU_LSTM_2018': (47.04670488512194, 188617.94),\n",
       " 'ConvGRU_LSTM_2019': (38.2209102552231, 178306.06),\n",
       " 'ConvGRU_LSTM_2020': (45.216056802770595, 225153.06),\n",
       " 'ConvGRU_LSTM_2021': (950.584997177124, 190534.0)}"
      ]
     },
     "execution_count": 35,
     "metadata": {},
     "output_type": "execute_result"
    }
   ],
   "source": [
    "models = ['CNN_LSTM', 'SepCNN_LSTM', 'ConvGRU_LSTM']\n",
    "\n",
    "all_data = {}\n",
    "\n",
    "for model_name in models:\n",
    "    model = torch.load(f'./models/{model_name}_best.pt')\n",
    "    model.to('cuda')\n",
    "    model.eval()\n",
    "\n",
    "    for year in ['2018', '2019', '2020', '2021']:\n",
    "        losses = []\n",
    "        outputs = []\n",
    "\n",
    "        if year == '2021':\n",
    "            year_gen = generator(data_years[year], yields['validation'], 16)\n",
    "        else:\n",
    "            year_gen = generator(data_years[year], yields['train'], 16)\n",
    "\n",
    "        with torch.no_grad():\n",
    "            for data, yield_data in year_gen:\n",
    "                if data is None:\n",
    "                    break\n",
    "                output = model(data)\n",
    "                loss = criterion(output, yield_data.unsqueeze(1))\n",
    "                outputs.append(output.cpu().numpy())\n",
    "                losses.append(loss.item())\n",
    "        \n",
    "        all_data[f'{model_name}_{year}'] = (np.mean(losses), np.sum(outputs))\n",
    "\n",
    "all_data"
   ]
  },
  {
   "cell_type": "code",
   "execution_count": null,
   "metadata": {},
   "outputs": [],
   "source": []
  }
 ],
 "metadata": {
  "kernelspec": {
   "display_name": ".venv",
   "language": "python",
   "name": "python3"
  },
  "language_info": {
   "codemirror_mode": {
    "name": "ipython",
    "version": 3
   },
   "file_extension": ".py",
   "mimetype": "text/x-python",
   "name": "python",
   "nbconvert_exporter": "python",
   "pygments_lexer": "ipython3",
   "version": "3.11.5"
  }
 },
 "nbformat": 4,
 "nbformat_minor": 2
}
